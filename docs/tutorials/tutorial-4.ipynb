{
 "cells": [
  {
   "cell_type": "markdown",
   "metadata": {},
   "source": [
    "# Tutorial 4: Standardizing Timeseries Data Within Runs\n",
    "\n",
    "[![Open In Colab](https://colab.research.google.com/assets/colab-badge.svg)](https://colab.research.google.com/github/donishadsmith/neurocaps/blob/stable/docs/examples/tutorial-4.ipynb)\n",
    "\n",
    "While standardizing the features/columns within runs can be done using the ``standardize`` parameter within the\n",
    "``TimeseriesExtractor`` class, the ``standardize()`` function can be used to perform\n",
    "within-run standardization post-extraction.\n"
   ]
  },
  {
   "cell_type": "code",
   "execution_count": 1,
   "metadata": {},
   "outputs": [],
   "source": [
    "# Download packages\n",
    "try:\n",
    "    import neurocaps\n",
    "except:\n",
    "    !pip install neurocaps[windows,demo]"
   ]
  },
  {
   "cell_type": "code",
   "execution_count": 2,
   "metadata": {},
   "outputs": [
    {
     "name": "stdout",
     "output_type": "stream",
     "text": [
      "True\n",
      "True\n"
     ]
    }
   ],
   "source": [
    "import numpy as np\n",
    "\n",
    "from neurocaps.analysis import standardize\n",
    "from neurocaps.utils import simulate_subject_timeseries\n",
    "\n",
    "subject_timeseries = simulate_subject_timeseries(n_subs=1, n_runs=2, shape=(50, 100))\n",
    "\n",
    "# Getting mean and standard deviation for run 0 and 1 of subject 0\n",
    "mean_vec_1 = subject_timeseries[\"0\"][\"run-0\"].mean(axis=0)\n",
    "std_vec_1 = subject_timeseries[\"0\"][\"run-0\"].std(ddof=1, axis=0)\n",
    "mean_vec_2 = subject_timeseries[\"0\"][\"run-1\"].mean(axis=0)\n",
    "std_vec_2 = subject_timeseries[\"0\"][\"run-1\"].std(ddof=1, axis=0)\n",
    "\n",
    "# Avoid numerical stability issues\n",
    "std_vec_1[std_vec_1 < np.finfo(std_vec_1.dtype).eps] = 1.0\n",
    "std_vec_2[std_vec_2 < np.finfo(std_vec_2.dtype).eps] = 1.0\n",
    "\n",
    "standardized_subject_timeseries = standardize(subject_timeseries_list=[subject_timeseries])\n",
    "\n",
    "standardized_1 = (subject_timeseries[\"0\"][\"run-0\"] - mean_vec_1) / std_vec_1\n",
    "standardized_2 = (subject_timeseries[\"0\"][\"run-1\"] - mean_vec_2) / std_vec_2\n",
    "\n",
    "print(np.array_equal(standardized_subject_timeseries[\"dict_0\"][\"0\"][\"run-0\"], standardized_1))\n",
    "print(np.array_equal(standardized_subject_timeseries[\"dict_0\"][\"0\"][\"run-1\"], standardized_2))"
   ]
  }
 ],
 "metadata": {
  "kernelspec": {
   "display_name": "Python 3",
   "language": "python",
   "name": "python3"
  },
  "language_info": {
   "codemirror_mode": {
    "name": "ipython",
    "version": 3
   },
   "file_extension": ".py",
   "mimetype": "text/x-python",
   "name": "python",
   "nbconvert_exporter": "python",
   "pygments_lexer": "ipython3",
   "version": "3.11.0"
  }
 },
 "nbformat": 4,
 "nbformat_minor": 2
}
