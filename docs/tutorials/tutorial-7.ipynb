{
 "cells": [
  {
   "cell_type": "markdown",
   "metadata": {},
   "source": [
    "# Tutorial 7: Defining Custom Parcellations\n",
    "\n",
    "[![Open In Colab](https://colab.research.google.com/assets/colab-badge.svg)](https://colab.research.google.com/github/donishadsmith/neurocaps/blob/stable/docs/tutorials/tutorial-7.ipynb) [![Github](https://img.shields.io/badge/Go_to_Source-black.svg?logo=github)](https://github.com/donishadsmith/neurocaps/blob/stable/docs/tutorials/tutorial-7.ipynb)\n",
    "\n",
    "While NeuroCAPs leverages Nilearn's fetch functions for the [Schaefer](https://nilearn.github.io/stable/modules/generated/nilearn.datasets.fetch_atlas_schaefer_2018.html)\n",
    "and [AAL](https://nilearn.github.io/stable/modules/generated/nilearn.datasets.fetch_atlas_aal.html), additional\n",
    "parcellations (lateralized and non-lateralized) can be manually defined. For custom parcellation approaches, three subkeys are\n",
    "recognized: \"maps\", \"nodes\", and \"regions\". For additional details on these subkeys, refer to the\n",
    "[\"Custom Parcellations\" sub-section](https://neurocaps.readthedocs.io/en/stable/user_guide/parcellations.html#custom-parcellations).\n",
    "\n",
    "**Note:** Non-lateralized parcellations are supported in versions >= 0.30.0.\n",
    "\n",
    "There are three methods to create the \"Custom\" `parcel_approach`."
   ]
  },
  {
   "cell_type": "code",
   "execution_count": 8,
   "metadata": {},
   "outputs": [],
   "source": [
    "# Download packages\n",
    "try:\n",
    "    import neurocaps\n",
    "except:\n",
    "    !pip install neurocaps[windows,demo]\n",
    "\n",
    "# Set headless display for google colab\n",
    "import os, sys\n",
    "\n",
    "if \"google.colab\" in sys.modules:\n",
    "    os.environ[\"DISPLAY\"] = \":0.0\"\n",
    "    !apt-get install -y xvfb\n",
    "    !Xvfb :0 -screen 0 1024x768x24 &> /dev/null &\n",
    "    !Xvfb :0 -screen 0 1024x768x24 &> /dev/null &"
   ]
  },
  {
   "cell_type": "markdown",
   "metadata": {},
   "source": [
    "## 1. Manual Creation"
   ]
  },
  {
   "cell_type": "code",
   "execution_count": 9,
   "metadata": {},
   "outputs": [],
   "source": [
    "# Fetching atlas NiFTI image and labels from Github\n",
    "import os, subprocess, sys\n",
    "\n",
    "demo_dir = \"neurocaps_demo\"\n",
    "os.makedirs(demo_dir, exist_ok=True)\n",
    "\n",
    "if sys.platform != \"win32\":\n",
    "    cmd = [\n",
    "        [\n",
    "            \"wget\",\n",
    "            \"-q\",\n",
    "            \"-P\",\n",
    "            demo_dir,\n",
    "            \"https://github.com/wayalan/HCPex/raw/main/HCPex_v1.1/HCPex_LookUpTable.txt\",\n",
    "        ],\n",
    "        [\n",
    "            \"wget\",\n",
    "            \"-q\",\n",
    "            \"-P\",\n",
    "            demo_dir,\n",
    "            \"https://github.com/wayalan/HCPex/raw/main/HCPex_v1.1/HCPex_2mm.nii\",\n",
    "        ],\n",
    "    ]\n",
    "else:\n",
    "    cmd = [\n",
    "        [\n",
    "            \"curl\",\n",
    "            \"-L\",\n",
    "            \"-o\",\n",
    "            f\"{demo_dir}\\\\HCPex_LookUpTable.txt\",\n",
    "            \"https://github.com/wayalan/HCPex/raw/main/HCPex_v1.1/HCPex_LookUpTable.txt\",\n",
    "        ],\n",
    "        [\n",
    "            \"curl\",\n",
    "            \"-L\",\n",
    "            \"-o\",\n",
    "            f\"{demo_dir}\\\\HCPex.nii.gz\",\n",
    "            \"https://github.com/wayalan/HCPex/raw/main/HCPex_v1.1/HCPex_2mm.nii\",\n",
    "        ],\n",
    "    ]\n",
    "\n",
    "for command in cmd:\n",
    "    subprocess.run(command, check=True)"
   ]
  },
  {
   "cell_type": "code",
   "execution_count": 10,
   "metadata": {},
   "outputs": [],
   "source": [
    "import pandas as pd\n",
    "\n",
    "parcel_approach = {\"Custom\": {}}\n",
    "\n",
    "# Set path to parcellation NifTI image\n",
    "parcel_approach[\"Custom\"][\"maps\"] = os.path.join(demo_dir, \"HCPex.nii.gz\")\n",
    "\n",
    "# Get the nodes and ensure that the first node (index 0) is the first non-background node\n",
    "parcel_approach[\"Custom\"][\"nodes\"] = pd.read_csv(\n",
    "    os.path.join(demo_dir, \"HCPex_LookUpTable.txt\"),\n",
    "    sep=None,\n",
    "    engine=\"python\",\n",
    ")[\"Label\"].values[1:]\n",
    "\n",
    "# Setting the region names and their corresponding indices in the \"nodes\" list\n",
    "# in this case it is just the label id - 1\n",
    "parcel_approach[\"Custom\"][\"regions\"] = {\n",
    "    \"Primary Visual\": {\"lh\": [0], \"rh\": [180]},\n",
    "    \"Early Visual\": {\"lh\": [1, 2, 3], \"rh\": [181, 182, 183]},\n",
    "    \"Dorsal Stream Visual\": {\"lh\": range(4, 10), \"rh\": range(184, 190)},\n",
    "    \"Ventral Stream Visual\": {\"lh\": range(10, 17), \"rh\": range(190, 197)},\n",
    "    \"MT+ Complex\": {\"lh\": range(17, 26), \"rh\": range(197, 206)},\n",
    "    \"SomaSens Motor\": {\"lh\": range(26, 31), \"rh\": range(206, 211)},\n",
    "    \"ParaCentral MidCing\": {\"lh\": range(31, 40), \"rh\": range(211, 220)},\n",
    "    \"Premotor\": {\"lh\": range(40, 47), \"rh\": range(220, 227)},\n",
    "    \"Posterior Opercular\": {\"lh\": range(47, 52), \"rh\": range(227, 232)},\n",
    "    \"Early Auditory\": {\"lh\": range(52, 59), \"rh\": range(232, 239)},\n",
    "    \"Auditory Association\": {\"lh\": range(59, 67), \"rh\": range(239, 247)},\n",
    "    \"Insula FrontalOperc\": {\"lh\": range(67, 79), \"rh\": range(247, 259)},\n",
    "    \"Medial Temporal\": {\"lh\": range(79, 87), \"rh\": range(259, 267)},\n",
    "    \"Lateral Temporal\": {\"lh\": range(87, 95), \"rh\": range(267, 275)},\n",
    "    \"TPO\": {\"lh\": range(95, 100), \"rh\": range(275, 280)},\n",
    "    \"Superior Parietal\": {\"lh\": range(100, 110), \"rh\": range(280, 290)},\n",
    "    \"Inferior Parietal\": {\"lh\": range(110, 120), \"rh\": range(290, 300)},\n",
    "    \"Posterior Cingulate\": {\"lh\": range(120, 133), \"rh\": range(300, 313)},\n",
    "    \"AntCing MedPFC\": {\"lh\": range(133, 149), \"rh\": range(313, 329)},\n",
    "    \"OrbPolaFrontal\": {\"lh\": range(149, 158), \"rh\": range(329, 338)},\n",
    "    \"Inferior Frontal\": {\"lh\": range(158, 167), \"rh\": range(338, 347)},\n",
    "    \"Dorsolateral Prefrontal\": {\"lh\": range(167, 180), \"rh\": range(347, 360)},\n",
    "    \"Subcortical Regions\": {\"lh\": range(360, 393), \"rh\": range(393, 426)},\n",
    "}"
   ]
  },
  {
   "cell_type": "markdown",
   "metadata": {},
   "source": [
    "The \"lh\" and \"rh\" subkeys aren't required. The following configurations are also acceptable."
   ]
  },
  {
   "cell_type": "code",
   "execution_count": 11,
   "metadata": {},
   "outputs": [],
   "source": [
    "# Non-lateralized regions\n",
    "regions_non_lateralized = {\n",
    "    \"Primary Visual\": [0, 180],\n",
    "    \"Early Visual\": [1, 2, 3, 181, 182, 183],\n",
    "    \"Dorsal Stream Visual\": [*range(4, 10), *range(184, 190)],\n",
    "    \"Ventral Stream Visual\": [*range(10, 17), *range(190, 197)],\n",
    "    \"MT+ Complex\": [*range(17, 26), *range(197, 206)],\n",
    "    \"SomaSens Motor\": [*range(26, 31), *range(206, 211)],\n",
    "    \"ParaCentral MidCing\": [*range(31, 40), *range(211, 220)],\n",
    "    \"Premotor\": [*range(40, 47), *range(220, 227)],\n",
    "    \"Posterior Opercular\": [*range(47, 52), *range(227, 232)],\n",
    "    \"Early Auditory\": [*range(52, 59), *range(232, 239)],\n",
    "    \"Auditory Association\": [*range(59, 67), *range(239, 247)],\n",
    "    \"Insula FrontalOperc\": [*range(67, 79), *range(247, 259)],\n",
    "    \"Medial Temporal\": [*range(79, 87), *range(259, 267)],\n",
    "    \"Lateral Temporal\": [*range(87, 95), *range(267, 275)],\n",
    "    \"TPO\": [*range(95, 100), *range(275, 280)],\n",
    "    \"Superior Parietal\": [*range(100, 110), *range(280, 290)],\n",
    "    \"Inferior Parietal\": [*range(110, 120), *range(290, 300)],\n",
    "    \"Posterior Cingulate\": [*range(120, 133), *range(300, 313)],\n",
    "    \"AntCing MedPFC\": [*range(133, 149), *range(313, 329)],\n",
    "    \"OrbPolaFrontal\": [*range(149, 158), *range(329, 338)],\n",
    "    \"Inferior Frontal\": [*range(158, 167), *range(338, 347)],\n",
    "    \"Dorsolateral Prefrontal\": [*range(167, 180), *range(347, 360)],\n",
    "    \"Subcortical Regions\": [*range(360, 393), *range(393, 426)],\n",
    "}\n",
    "\n",
    "# Mix of lateralized and non-lateralized regions\n",
    "regions_mixed = {\n",
    "    # Non-Lateralized Regions\n",
    "    \"Primary Visual\": [*[0], *[180]],\n",
    "    \"Early Visual\": [*[1, 2, 3], *[181, 182, 183]],\n",
    "    \"Dorsal Stream Visual\": [*range(4, 10), *range(184, 190)],\n",
    "    \"Ventral Stream Visual\": [*range(10, 17), *range(190, 197)],\n",
    "    \"ParaCentral MidCing\": [*range(31, 40), *range(211, 220)],\n",
    "    \"Posterior Cingulate\": [*range(120, 133), *range(300, 313)],\n",
    "    \"AntCing MedPFC\": [*range(133, 149), *range(313, 329)],\n",
    "    \"Subcortical Regions\": [*range(360, 393), *range(393, 426)],\n",
    "    # Lateralized Regions\n",
    "    \"MT+ Complex\": {\"lh\": range(17, 26), \"rh\": range(197, 206)},\n",
    "    \"SomaSens Motor\": {\"lh\": range(26, 31), \"rh\": range(206, 211)},\n",
    "    \"Premotor\": {\"lh\": range(40, 47), \"rh\": range(220, 227)},\n",
    "    \"Posterior Opercular\": {\"lh\": range(47, 52), \"rh\": range(227, 232)},\n",
    "    \"Early Auditory\": {\"lh\": range(52, 59), \"rh\": range(232, 239)},\n",
    "    \"Auditory Association\": {\"lh\": range(59, 67), \"rh\": range(239, 247)},\n",
    "    \"Insula FrontalOperc\": {\"lh\": range(67, 79), \"rh\": range(247, 259)},\n",
    "    \"Medial Temporal\": {\"lh\": range(79, 87), \"rh\": range(259, 267)},\n",
    "    \"Lateral Temporal\": {\"lh\": range(87, 95), \"rh\": range(267, 275)},\n",
    "    \"TPO\": {\"lh\": range(95, 100), \"rh\": range(275, 280)},\n",
    "    \"Superior Parietal\": {\"lh\": range(100, 110), \"rh\": range(280, 290)},\n",
    "    \"Inferior Parietal\": {\"lh\": range(110, 120), \"rh\": range(290, 300)},\n",
    "    \"OrbPolaFrontal\": {\"lh\": range(149, 158), \"rh\": range(329, 338)},\n",
    "    \"Inferior Frontal\": {\"lh\": range(158, 167), \"rh\": range(338, 347)},\n",
    "    \"Dorsolateral Prefrontal\": {\"lh\": range(167, 180), \"rh\": range(347, 360)},\n",
    "}"
   ]
  },
  {
   "cell_type": "markdown",
   "metadata": {},
   "source": [
    "## 2. Generate from a tabular metadata file"
   ]
  },
  {
   "cell_type": "code",
   "execution_count": 12,
   "metadata": {},
   "outputs": [],
   "source": [
    "import pandas as pd, numpy as np, sys, subprocess\n",
    "from neurocaps.utils import generate_custom_parcel_approach\n",
    "\n",
    "# Fetching atlas NiFTI image and labels from Github\n",
    "if sys.platform != \"win32\":\n",
    "    cmd = [\n",
    "        [\n",
    "            \"wget\",\n",
    "            \"-q\",\n",
    "            \"-P\",\n",
    "            \"neurocaps_demo\",\n",
    "            \"https://github.com/PennLINC/AtlasPack/raw/main/atlas-4S156Parcels_dseg.tsv\",\n",
    "        ],\n",
    "    ]\n",
    "else:\n",
    "    cmd = [\n",
    "        [\n",
    "            \"curl\",\n",
    "            \"-L\",\n",
    "            \"-o\",\n",
    "            \"neurocaps_demo\\\\atlas-4S156Parcels_dseg.tsv\",\n",
    "            \"https://github.com/PennLINC/AtlasPack/raw/main/atlas-4S156Parcels_dseg.tsv\",\n",
    "        ],\n",
    "    ]\n",
    "\n",
    "for command in cmd:\n",
    "    subprocess.run(command, check=True)\n",
    "\n",
    "# For this parcellation, the metadata contains the labels and the network mappings though\n",
    "# certain nodes in the Cerebellum, Subcortical, and Thalamus have NaN values in the\n",
    "# column denoting network affiliation\n",
    "df = pd.read_csv(\n",
    "    r\"neurocaps_demo\\atlas-4S156Parcels_dseg.tsv\",\n",
    "    sep=\"\\t\",\n",
    ")\n",
    "\n",
    "# Replacing null values in the \"network_label\" column with values in \"atlas_name\"\n",
    "df[\"network_label\"] = np.where(df[\"network_label\"].isnull(), df[\"atlas_name\"], df[\"network_label\"])\n",
    "\n",
    "# Simplifying names for for certain names in \"network_label\"\n",
    "df.loc[df[\"network_label\"].str.contains(\"Subcortical\", na=False), \"network_label\"] = \"Subcortical\"\n",
    "df.loc[df[\"network_label\"].str.contains(\"Thalamus\", na=False), \"network_label\"] = \"Thalamus\"\n",
    "\n",
    "# Create empty file for demonstration purposes\n",
    "with open(r\"neurocaps_demo\\temp_parc_map.nii.gz\", \"w\") as f:\n",
    "    pass\n",
    "\n",
    "# Creating custom parcel approach dictionary\n",
    "parcel_approach = generate_custom_parcel_approach(\n",
    "    df,\n",
    "    maps_path=r\"neurocaps_demo\\temp_parc_map.nii.gz\",\n",
    "    column_map={\"nodes\": \"label\", \"regions\": \"network_label\"},\n",
    ")"
   ]
  },
  {
   "cell_type": "markdown",
   "metadata": {},
   "source": [
    "The following code creates a lateralized version of the ``parcel_approach``. Note that the\n",
    "lateralization information is specific case in ``CAP.caps2plot`` when ``visual_scope`` is set to\n",
    "\"nodes\" and the ``add_custom_node_labels`` kwarg is True."
   ]
  },
  {
   "cell_type": "code",
   "execution_count": 13,
   "metadata": {},
   "outputs": [],
   "source": [
    "# Create a hemisphere column\n",
    "df[\"hemisphere_labels\"] = df[\"hemisphere_labels\"] = df[\"label\"].str.extract(r\"^(LH|RH)\")\n",
    "\n",
    "# Creating custom parcel approach dictionary\n",
    "parcel_approach = generate_custom_parcel_approach(\n",
    "    df,\n",
    "    maps_path=r\"neurocaps_demo\\temp_parc_map.nii.gz\",\n",
    "    column_map={\"nodes\": \"label\", \"regions\": \"network_label\", \"hemispheres\": \"hemisphere_labels\"},\n",
    "    hemisphere_map={\"lh\": [\"LH\"], \"rh\": [\"RH\"]},\n",
    ")"
   ]
  },
  {
   "cell_type": "markdown",
   "metadata": {},
   "source": [
    "## 3. Fetching a preset \"Custom\" ``parcel_approach``\n",
    "\n",
    "**Note**: Currently only \"HCPex\", \"4S\", and \"Gordon\" are supported."
   ]
  },
  {
   "cell_type": "code",
   "execution_count": 14,
   "metadata": {},
   "outputs": [
    {
     "name": "stdout",
     "output_type": "stream",
     "text": [
      "2025-07-21 14:31:59,242 neurocaps.utils._io [WARNING] Creating the following non-existent path: C:\\Users\\donis\\neurocaps_data.\n",
      "2025-07-21 14:31:59,245 neurocaps.utils.datasets._fetch [INFO] Downloading the following files from OSF: 'atlas-HCPex_desc-CustomParcelApproach.json', 'tpl-MNI152NLin2009cAsym_atlas-HCPex_2mm.nii.gz'\n"
     ]
    },
    {
     "data": {
      "text/html": [
       "<pre style=\"white-space:pre;overflow-x:auto;line-height:normal;font-family:Menlo,'DejaVu Sans Mono',consolas,'Courier New',monospace\"><span style=\"color: #000080; text-decoration-color: #000080; font-weight: bold\">[</span><span style=\"color: #000080; text-decoration-color: #000080\">fetch_single_file</span><span style=\"color: #000080; text-decoration-color: #000080; font-weight: bold\">]</span> Downloading data from <span style=\"color: #0000ff; text-decoration-color: #0000ff; text-decoration: underline\">https://osf.io/rdbfv/download</span> <span style=\"color: #808000; text-decoration-color: #808000\">...</span>\n",
       "</pre>\n"
      ],
      "text/plain": [
       "\u001b[1;34m[\u001b[0m\u001b[34mfetch_single_file\u001b[0m\u001b[1;34m]\u001b[0m Downloading data from \u001b[4;94mhttps://osf.io/rdbfv/download\u001b[0m \u001b[33m...\u001b[0m\n"
      ]
     },
     "metadata": {},
     "output_type": "display_data"
    },
    {
     "data": {
      "text/html": [
       "<pre style=\"white-space:pre;overflow-x:auto;line-height:normal;font-family:Menlo,'DejaVu Sans Mono',consolas,'Courier New',monospace\"><span style=\"color: #000080; text-decoration-color: #000080; font-weight: bold\">[</span><span style=\"color: #000080; text-decoration-color: #000080\">fetch_single_file</span><span style=\"color: #000080; text-decoration-color: #000080; font-weight: bold\">]</span>  <span style=\"color: #808000; text-decoration-color: #808000\">...</span>done. <span style=\"font-weight: bold\">(</span><span style=\"color: #008080; text-decoration-color: #008080; font-weight: bold\">3</span> seconds, <span style=\"color: #008080; text-decoration-color: #008080; font-weight: bold\">0</span> min<span style=\"font-weight: bold\">)</span>\n",
       "\n",
       "</pre>\n"
      ],
      "text/plain": [
       "\u001b[1;34m[\u001b[0m\u001b[34mfetch_single_file\u001b[0m\u001b[1;34m]\u001b[0m  \u001b[33m...\u001b[0mdone. \u001b[1m(\u001b[0m\u001b[1;36m3\u001b[0m seconds, \u001b[1;36m0\u001b[0m min\u001b[1m)\u001b[0m\n",
       "\n"
      ]
     },
     "metadata": {},
     "output_type": "display_data"
    },
    {
     "data": {
      "text/html": [
       "<pre style=\"white-space:pre;overflow-x:auto;line-height:normal;font-family:Menlo,'DejaVu Sans Mono',consolas,'Courier New',monospace\"><span style=\"color: #000080; text-decoration-color: #000080; font-weight: bold\">[</span><span style=\"color: #000080; text-decoration-color: #000080\">fetch_single_file</span><span style=\"color: #000080; text-decoration-color: #000080; font-weight: bold\">]</span> Downloading data from <span style=\"color: #0000ff; text-decoration-color: #0000ff; text-decoration: underline\">https://osf.io/mx4d6/download</span> <span style=\"color: #808000; text-decoration-color: #808000\">...</span>\n",
       "</pre>\n"
      ],
      "text/plain": [
       "\u001b[1;34m[\u001b[0m\u001b[34mfetch_single_file\u001b[0m\u001b[1;34m]\u001b[0m Downloading data from \u001b[4;94mhttps://osf.io/mx4d6/download\u001b[0m \u001b[33m...\u001b[0m\n"
      ]
     },
     "metadata": {},
     "output_type": "display_data"
    },
    {
     "data": {
      "text/html": [
       "<pre style=\"white-space:pre;overflow-x:auto;line-height:normal;font-family:Menlo,'DejaVu Sans Mono',consolas,'Courier New',monospace\"><span style=\"color: #000080; text-decoration-color: #000080; font-weight: bold\">[</span><span style=\"color: #000080; text-decoration-color: #000080\">fetch_single_file</span><span style=\"color: #000080; text-decoration-color: #000080; font-weight: bold\">]</span>  <span style=\"color: #808000; text-decoration-color: #808000\">...</span>done. <span style=\"font-weight: bold\">(</span><span style=\"color: #008080; text-decoration-color: #008080; font-weight: bold\">1</span> seconds, <span style=\"color: #008080; text-decoration-color: #008080; font-weight: bold\">0</span> min<span style=\"font-weight: bold\">)</span>\n",
       "\n",
       "</pre>\n"
      ],
      "text/plain": [
       "\u001b[1;34m[\u001b[0m\u001b[34mfetch_single_file\u001b[0m\u001b[1;34m]\u001b[0m  \u001b[33m...\u001b[0mdone. \u001b[1m(\u001b[0m\u001b[1;36m1\u001b[0m seconds, \u001b[1;36m0\u001b[0m min\u001b[1m)\u001b[0m\n",
       "\n"
      ]
     },
     "metadata": {},
     "output_type": "display_data"
    },
    {
     "name": "stdout",
     "output_type": "stream",
     "text": [
      "2025-07-21 14:32:03,459 neurocaps.utils.datasets._fetch [INFO] Downloading the following files from OSF: 'atlas-4S456Parcels_desc-CustomParcelApproach.json', 'tpl-MNI152NLin2009cAsym_atlas-4S456Parcels_res-01_dseg.nii.gz'\n"
     ]
    },
    {
     "data": {
      "text/html": [
       "<pre style=\"white-space:pre;overflow-x:auto;line-height:normal;font-family:Menlo,'DejaVu Sans Mono',consolas,'Courier New',monospace\"><span style=\"color: #000080; text-decoration-color: #000080; font-weight: bold\">[</span><span style=\"color: #000080; text-decoration-color: #000080\">fetch_single_file</span><span style=\"color: #000080; text-decoration-color: #000080; font-weight: bold\">]</span> Downloading data from <span style=\"color: #0000ff; text-decoration-color: #0000ff; text-decoration: underline\">https://osf.io/juyac/download</span> <span style=\"color: #808000; text-decoration-color: #808000\">...</span>\n",
       "</pre>\n"
      ],
      "text/plain": [
       "\u001b[1;34m[\u001b[0m\u001b[34mfetch_single_file\u001b[0m\u001b[1;34m]\u001b[0m Downloading data from \u001b[4;94mhttps://osf.io/juyac/download\u001b[0m \u001b[33m...\u001b[0m\n"
      ]
     },
     "metadata": {},
     "output_type": "display_data"
    },
    {
     "data": {
      "text/html": [
       "<pre style=\"white-space:pre;overflow-x:auto;line-height:normal;font-family:Menlo,'DejaVu Sans Mono',consolas,'Courier New',monospace\"><span style=\"color: #000080; text-decoration-color: #000080; font-weight: bold\">[</span><span style=\"color: #000080; text-decoration-color: #000080\">fetch_single_file</span><span style=\"color: #000080; text-decoration-color: #000080; font-weight: bold\">]</span>  <span style=\"color: #808000; text-decoration-color: #808000\">...</span>done. <span style=\"font-weight: bold\">(</span><span style=\"color: #008080; text-decoration-color: #008080; font-weight: bold\">2</span> seconds, <span style=\"color: #008080; text-decoration-color: #008080; font-weight: bold\">0</span> min<span style=\"font-weight: bold\">)</span>\n",
       "\n",
       "</pre>\n"
      ],
      "text/plain": [
       "\u001b[1;34m[\u001b[0m\u001b[34mfetch_single_file\u001b[0m\u001b[1;34m]\u001b[0m  \u001b[33m...\u001b[0mdone. \u001b[1m(\u001b[0m\u001b[1;36m2\u001b[0m seconds, \u001b[1;36m0\u001b[0m min\u001b[1m)\u001b[0m\n",
       "\n"
      ]
     },
     "metadata": {},
     "output_type": "display_data"
    },
    {
     "data": {
      "text/html": [
       "<pre style=\"white-space:pre;overflow-x:auto;line-height:normal;font-family:Menlo,'DejaVu Sans Mono',consolas,'Courier New',monospace\"><span style=\"color: #000080; text-decoration-color: #000080; font-weight: bold\">[</span><span style=\"color: #000080; text-decoration-color: #000080\">fetch_single_file</span><span style=\"color: #000080; text-decoration-color: #000080; font-weight: bold\">]</span> Downloading data from <span style=\"color: #0000ff; text-decoration-color: #0000ff; text-decoration: underline\">https://osf.io/tpz6y/download</span> <span style=\"color: #808000; text-decoration-color: #808000\">...</span>\n",
       "</pre>\n"
      ],
      "text/plain": [
       "\u001b[1;34m[\u001b[0m\u001b[34mfetch_single_file\u001b[0m\u001b[1;34m]\u001b[0m Downloading data from \u001b[4;94mhttps://osf.io/tpz6y/download\u001b[0m \u001b[33m...\u001b[0m\n"
      ]
     },
     "metadata": {},
     "output_type": "display_data"
    },
    {
     "data": {
      "text/html": [
       "<pre style=\"white-space:pre;overflow-x:auto;line-height:normal;font-family:Menlo,'DejaVu Sans Mono',consolas,'Courier New',monospace\"><span style=\"color: #000080; text-decoration-color: #000080; font-weight: bold\">[</span><span style=\"color: #000080; text-decoration-color: #000080\">fetch_single_file</span><span style=\"color: #000080; text-decoration-color: #000080; font-weight: bold\">]</span>  <span style=\"color: #808000; text-decoration-color: #808000\">...</span>done. <span style=\"font-weight: bold\">(</span><span style=\"color: #008080; text-decoration-color: #008080; font-weight: bold\">3</span> seconds, <span style=\"color: #008080; text-decoration-color: #008080; font-weight: bold\">0</span> min<span style=\"font-weight: bold\">)</span>\n",
       "\n",
       "</pre>\n"
      ],
      "text/plain": [
       "\u001b[1;34m[\u001b[0m\u001b[34mfetch_single_file\u001b[0m\u001b[1;34m]\u001b[0m  \u001b[33m...\u001b[0mdone. \u001b[1m(\u001b[0m\u001b[1;36m3\u001b[0m seconds, \u001b[1;36m0\u001b[0m min\u001b[1m)\u001b[0m\n",
       "\n"
      ]
     },
     "metadata": {},
     "output_type": "display_data"
    }
   ],
   "source": [
    "from neurocaps.utils import fetch_preset_parcel_approach\n",
    "\n",
    "parcel_approach = fetch_preset_parcel_approach(\"HCPex\")\n",
    "parcel_approach = fetch_preset_parcel_approach(\"4S\", n_nodes=456)"
   ]
  }
 ],
 "metadata": {
  "kernelspec": {
   "display_name": "Python 3",
   "language": "python",
   "name": "python3"
  },
  "language_info": {
   "codemirror_mode": {
    "name": "ipython",
    "version": 3
   },
   "file_extension": ".py",
   "mimetype": "text/x-python",
   "name": "python",
   "nbconvert_exporter": "python",
   "pygments_lexer": "ipython3",
   "version": "3.11.0"
  }
 },
 "nbformat": 4,
 "nbformat_minor": 2
}
