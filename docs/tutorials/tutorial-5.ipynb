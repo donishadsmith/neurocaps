{
 "cells": [
  {
   "cell_type": "markdown",
   "metadata": {},
   "source": [
    "# Tutorial 5: Changing Dtype of Timeseries Data\n",
    "\n",
    "[![Open In Colab](https://colab.research.google.com/assets/colab-badge.svg)](https://colab.research.google.com/github/donishadsmith/neurocaps/blob/stable/docs/tutorials/tutorial-5.ipynb) [![Github](https://img.shields.io/badge/Go_to_Source-black.svg?logo=github)](https://github.com/donishadsmith/neurocaps/blob/stable/docs/tutorials/tutorial-5.ipynb)\n",
    "\n",
    "The dtype of the all participant's NumPy arrays in the subject timeseries dictionary can be changed to assist with memory usage."
   ]
  },
  {
   "cell_type": "code",
   "execution_count": 1,
   "metadata": {},
   "outputs": [],
   "source": [
    "# Download packages\n",
    "try:\n",
    "    import neurocaps\n",
    "except:\n",
    "    !pip install neurocaps[windows,demo]"
   ]
  },
  {
   "cell_type": "code",
   "execution_count": 2,
   "metadata": {},
   "outputs": [
    {
     "name": "stdout",
     "output_type": "stream",
     "text": [
      "subj-0; run-0:\n",
      "dtype before conversion float64\n",
      "dtype after conversion: float32\n",
      "\n",
      "subj-0; run-1:\n",
      "dtype before conversion float64\n",
      "dtype after conversion: float32\n",
      "\n"
     ]
    }
   ],
   "source": [
    "import numpy as np\n",
    "\n",
    "from neurocaps.analysis import change_dtype\n",
    "from neurocaps.utils import simulate_subject_timeseries\n",
    "\n",
    "subject_timeseries = simulate_subject_timeseries(n_subs=1, n_runs=2, shape=(50, 100))\n",
    "\n",
    "converted_subject_timeseries = change_dtype(\n",
    "    subject_timeseries_list=[subject_timeseries], dtype=np.float32\n",
    ")\n",
    "\n",
    "for subj_id in subject_timeseries:\n",
    "    for run in subject_timeseries[subj_id]:\n",
    "        print(\n",
    "            f\"subj-{subj_id}; {run}:\\n\"\n",
    "            f\"dtype before conversion {subject_timeseries[subj_id][run].dtype}\\n\"\n",
    "            f\"dtype after conversion: {converted_subject_timeseries['dict_0'][subj_id][run].dtype}\\n\"\n",
    "        )"
   ]
  }
 ],
 "metadata": {
  "kernelspec": {
   "display_name": "Python 3",
   "language": "python",
   "name": "python3"
  },
  "language_info": {
   "codemirror_mode": {
    "name": "ipython",
    "version": 3
   },
   "file_extension": ".py",
   "mimetype": "text/x-python",
   "name": "python",
   "nbconvert_exporter": "python",
   "pygments_lexer": "ipython3",
   "version": "3.11.0"
  }
 },
 "nbformat": 4,
 "nbformat_minor": 2
}
