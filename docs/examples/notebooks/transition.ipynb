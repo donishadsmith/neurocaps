{
 "cells": [
  {
   "cell_type": "markdown",
   "metadata": {},
   "source": [
    "# Tutorial 6: Generating Transition Probability Matrices ``transition_matrix``\n",
    "\n",
    "The ``CAP.calculate_metrics()`` function is designed to compute transition probabilities for all subjects and store these\n",
    "values into dataframes (one per group). These dataframes can subsequently be used as input for the ``transition_matrix()``\n",
    "function to generate visualizations of the average transition probabilities per group."
   ]
  },
  {
   "cell_type": "code",
   "execution_count": null,
   "metadata": {},
   "outputs": [],
   "source": [
    "# Download packages\n",
    "try:\n",
    "    import neurocaps\n",
    "except:\n",
    "    !pip install neurocaps[windows,demo]"
   ]
  },
  {
   "cell_type": "code",
   "execution_count": null,
   "metadata": {},
   "outputs": [],
   "source": [
    "import numpy as np\n",
    "from neurocaps.analysis import CAP, transition_matrix\n",
    "\n",
    "# Simulate `subject_timeseries` structure\n",
    "subject_timeseries = {\n",
    "    str(x): {f\"run-{y}\": np.random.rand(10, 100) for y in range(1, 4)} for x in range(1, 11)\n",
    "}\n",
    "\n",
    "cap_analysis = CAP()\n",
    "\n",
    "cap_analysis.get_caps(\n",
    "    subject_timeseries=subject_timeseries,\n",
    "    cluster_selection_method=\"davies_bouldin\",\n",
    "    standardize=True,\n",
    "    n_clusters=list(range(2, 6)),\n",
    ")"
   ]
  },
  {
   "cell_type": "code",
   "execution_count": null,
   "metadata": {},
   "outputs": [],
   "source": [
    "outputs = cap_analysis.calculate_metrics(\n",
    "    subject_timeseries=subject_timeseries,\n",
    "    return_df=True,\n",
    "    metrics=[\"transition_probability\"],\n",
    "    continuous_runs=True,\n",
    ")\n",
    "\n",
    "print(outputs[\"transition_probability\"][\"All Subjects\"])"
   ]
  },
  {
   "cell_type": "code",
   "execution_count": null,
   "metadata": {},
   "outputs": [],
   "source": [
    "kwargs = {\"cmap\": \"viridis\", \"fmt\": \".3f\", \"annot\": True}\n",
    "\n",
    "trans_outputs = transition_matrix(\n",
    "    trans_dict=outputs[\"transition_probability\"], show_figs=True, return_df=True, **kwargs\n",
    ")\n",
    "\n",
    "print(trans_outputs[\"All Subjects\"])"
   ]
  }
 ],
 "metadata": {
  "language_info": {
   "name": "python"
  }
 },
 "nbformat": 4,
 "nbformat_minor": 2
}
