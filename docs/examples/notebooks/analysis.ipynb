{
 "cells": [
  {
   "cell_type": "markdown",
   "metadata": {},
   "source": [
    "# Tutorial 2: Using ``CAP``\n",
    "\n",
    "The ``CAP`` class is designed to perform CAPs analyses (on all subjects or group of subjects). It offers the flexibility\n",
    "to analyze data from all subjects or focus on specific groups, compute CAP-specific metrics, and generate visualizations\n",
    "to aid in the interpretation of results.\n"
   ]
  },
  {
   "cell_type": "code",
   "execution_count": null,
   "metadata": {},
   "outputs": [],
   "source": [
    "# Download packages\n",
    "try:\n",
    "    import neurocaps\n",
    "except:\n",
    "    !pip install neurocaps[windows,demo]\n",
    "\n",
    "# Set headless display for google colab\n",
    "import os, sys\n",
    "\n",
    "if \"google.colab\" in sys.modules:\n",
    "    os.environ[\"DISPLAY\"] = \":0.0\"\n",
    "    !apt-get install -y xvfb\n",
    "    !Xvfb :0 -screen 0 1024x768x24 &> /dev/null &\n",
    "    !Xvfb :0 -screen 0 1024x768x24 &> /dev/null &"
   ]
  },
  {
   "cell_type": "markdown",
   "metadata": {},
   "source": [
    "# Performing CAPs on All Subjects\n",
    "All information pertaining to CAPs (k-means models, activation vectors/cluster centroids, etc) are stored as attributes\n",
    "in the ``CAP`` class and this information is used by all methods in the class. These attributes are accessible via\n",
    "[properties](https://neurocaps.readthedocs.io/en/stable/generated/neurocaps.analysis.CAP.html#properties).\n",
    "**Some properties can also be used as setters.**"
   ]
  },
  {
   "cell_type": "code",
   "execution_count": null,
   "metadata": {},
   "outputs": [],
   "source": [
    "import numpy as np\n",
    "from neurocaps.analysis import CAP\n",
    "\n",
    "# Extracting timseries\n",
    "parcel_approach = {\"Schaefer\": {\"n_rois\": 100, \"yeo_networks\": 7, \"resolution_mm\": 2}}\n",
    "\n",
    "# Simulate data for example\n",
    "subject_timeseries = {\n",
    "    str(x): {f\"run-{y}\": np.random.rand(100, 100) for y in range(1, 4)} for x in range(1, 11)\n",
    "}\n",
    "\n",
    "# Initialize CAP class\n",
    "cap_analysis = CAP(parcel_approach=parcel_approach)\n",
    "\n",
    "# Get CAPs\n",
    "cap_analysis.get_caps(\n",
    "    subject_timeseries=subject_timeseries,\n",
    "    n_clusters=range(2, 11),\n",
    "    cluster_selection_method=\"elbow\",\n",
    "    show_figs=True,\n",
    "    step=2,\n",
    "    progress_bar=True,\n",
    ")"
   ]
  },
  {
   "cell_type": "markdown",
   "metadata": {},
   "source": [
    "``print`` can be used to return a string representation of the ``CAP`` class."
   ]
  },
  {
   "cell_type": "code",
   "execution_count": null,
   "metadata": {},
   "outputs": [],
   "source": [
    "print(cap_analysis)"
   ]
  },
  {
   "cell_type": "markdown",
   "metadata": {},
   "source": [
    "## Performing CAPs on Groups"
   ]
  },
  {
   "cell_type": "code",
   "execution_count": null,
   "metadata": {},
   "outputs": [],
   "source": [
    "cap_analysis = CAP(groups={\"A\": [\"1\", \"2\", \"3\", \"5\"], \"B\": [\"4\", \"6\", \"7\", \"8\", \"9\", \"10\"]})\n",
    "\n",
    "cap_analysis.get_caps(\n",
    "    subject_timeseries=subject_timeseries,\n",
    "    n_clusters=range(2, 21),\n",
    "    cluster_selection_method=\"silhouette\",\n",
    "    show_figs=True,\n",
    "    step=2,\n",
    "    progress_bar=True,\n",
    ")\n",
    "\n",
    "# The concatenated data can be safely deleted since only the kmeans models and any standardization parameters are\n",
    "# used for computing temporal metrics.\n",
    "\n",
    "del cap_analysis.concatenated_timeseries"
   ]
  },
  {
   "cell_type": "markdown",
   "metadata": {},
   "source": [
    "## Calculate Metrics\n",
    "\n",
    "Note that if ``standardize`` was set to True in ``CAP.get_caps()``, then the column (ROI) means and standard deviations\n",
    "computed from the concatenated data used to obtain the CAPs are also used to standardize each subject in the timeseries\n",
    "data inputted into ``CAP.calculate_metrics()``. This ensures proper CAP assignments for each subjects frames.\n"
   ]
  },
  {
   "cell_type": "code",
   "execution_count": null,
   "metadata": {},
   "outputs": [],
   "source": [
    "df_dict = cap_analysis.calculate_metrics(\n",
    "    subject_timeseries=subject_timeseries,\n",
    "    return_df=True,\n",
    "    metrics=[\"temporal_fraction\", \"counts\", \"transition_probability\"],\n",
    "    continuous_runs=True,\n",
    "    progress_bar=True,\n",
    ")\n",
    "\n",
    "print(df_dict[\"temporal_fraction\"])"
   ]
  },
  {
   "cell_type": "markdown",
   "metadata": {},
   "source": [
    "## Plotting CAPs"
   ]
  },
  {
   "cell_type": "code",
   "execution_count": null,
   "metadata": {},
   "outputs": [],
   "source": [
    "import seaborn as sns\n",
    "\n",
    "cap_analysis = CAP(\n",
    "    parcel_approach={\"Schaefer\": {\"n_rois\": 100, \"yeo_networks\": 7, \"resolution_mm\": 1}}\n",
    ")\n",
    "\n",
    "cap_analysis.get_caps(subject_timeseries=subject_timeseries, n_clusters=6)\n",
    "\n",
    "sns.diverging_palette(145, 300, s=60, as_cmap=True)\n",
    "\n",
    "palette = sns.diverging_palette(260, 10, s=80, l=55, n=256, as_cmap=True)\n",
    "\n",
    "kwargs = {\n",
    "    \"subplots\": True,\n",
    "    \"fontsize\": 14,\n",
    "    \"ncol\": 3,\n",
    "    \"sharey\": True,\n",
    "    \"tight_layout\": False,\n",
    "    \"xlabel_rotation\": 0,\n",
    "    \"hspace\": 0.3,\n",
    "    \"cmap\": palette,\n",
    "}\n",
    "\n",
    "cap_analysis.caps2plot(\n",
    "    visual_scope=\"regions\", plot_options=\"outer_product\", show_figs=True, **kwargs\n",
    ")\n",
    "\n",
    "cap_analysis.caps2plot(\n",
    "    visual_scope=\"nodes\",\n",
    "    plot_options=\"heatmap\",\n",
    "    xticklabels_size=7,\n",
    "    yticklabels_size=7,\n",
    "    show_figs=True,\n",
    ")"
   ]
  },
  {
   "cell_type": "markdown",
   "metadata": {},
   "source": [
    "## Generate Pearson Correlation Matrix"
   ]
  },
  {
   "cell_type": "code",
   "execution_count": null,
   "metadata": {},
   "outputs": [],
   "source": [
    "cap_analysis.caps2corr(annot=True, cmap=\"viridis\", show_figs=True)\n",
    "\n",
    "corr_dict = cap_analysis.caps2corr(return_df=True)\n",
    "print(corr_dict[\"All Subjects\"])"
   ]
  },
  {
   "cell_type": "markdown",
   "metadata": {},
   "source": [
    "## Creating Surface Plots\n"
   ]
  },
  {
   "cell_type": "code",
   "execution_count": null,
   "metadata": {},
   "outputs": [],
   "source": [
    "from matplotlib.colors import LinearSegmentedColormap\n",
    "\n",
    "# Create the colormap\n",
    "colors = [\n",
    "    \"#1bfffe\",\n",
    "    \"#00ccff\",\n",
    "    \"#0099ff\",\n",
    "    \"#0066ff\",\n",
    "    \"#0033ff\",\n",
    "    \"#c4c4c4\",\n",
    "    \"#ff6666\",\n",
    "    \"#ff3333\",\n",
    "    \"#FF0000\",\n",
    "    \"#ffcc00\",\n",
    "    \"#FFFF00\",\n",
    "]\n",
    "\n",
    "custom_cmap = LinearSegmentedColormap.from_list(\"custom_cold_hot\", colors, N=256)\n",
    "\n",
    "# Apply custom cmap to surface plots\n",
    "cap_analysis.caps2surf(progress_bar=True, cmap=custom_cmap, size=(500, 100), layout=\"row\")"
   ]
  },
  {
   "cell_type": "markdown",
   "metadata": {},
   "source": [
    "## Plotting CAPs to Radar"
   ]
  },
  {
   "cell_type": "code",
   "execution_count": null,
   "metadata": {},
   "outputs": [],
   "source": [
    "radialaxis = {\n",
    "    \"showline\": True,\n",
    "    \"linewidth\": 2,\n",
    "    \"linecolor\": \"rgba(0, 0, 0, 0.25)\",\n",
    "    \"gridcolor\": \"rgba(0, 0, 0, 0.25)\",\n",
    "    \"ticks\": \"outside\",\n",
    "    \"tickfont\": {\"size\": 14, \"color\": \"black\"},\n",
    "    \"range\": [0, 0.6],\n",
    "    \"tickvals\": [0.1, \"\", \"\", 0.4, \"\", \"\", 0.6],\n",
    "}\n",
    "\n",
    "legend = {\n",
    "    \"yanchor\": \"top\",\n",
    "    \"y\": 0.99,\n",
    "    \"x\": 0.99,\n",
    "    \"title_font_family\": \"Times New Roman\",\n",
    "    \"font\": {\"size\": 12, \"color\": \"black\"},\n",
    "}\n",
    "\n",
    "colors = {\"High Amplitude\": \"red\", \"Low Amplitude\": \"blue\"}\n",
    "\n",
    "kwargs = {\n",
    "    \"radialaxis\": radialaxis,\n",
    "    \"fill\": \"toself\",\n",
    "    \"legend\": legend,\n",
    "    \"color_discrete_map\": colors,\n",
    "    \"height\": 400,\n",
    "    \"width\": 600,\n",
    "}\n",
    "\n",
    "cap_analysis.caps2radar(**kwargs)"
   ]
  }
 ],
 "metadata": {
  "kernelspec": {
   "display_name": "Python 3",
   "language": "python",
   "name": "python3"
  },
  "language_info": {
   "name": "python",
   "version": "3.11.0"
  }
 },
 "nbformat": 4,
 "nbformat_minor": 2
}
