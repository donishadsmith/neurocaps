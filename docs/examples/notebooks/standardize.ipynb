{
 "cells": [
  {
   "cell_type": "markdown",
   "metadata": {},
   "source": [
    "# Tutorial 4: Standardizing Within Runs Using ``standardize``\n",
    "\n",
    "While standardizing the features/columns within runs can be done using the ``standardize`` parameter within the\n",
    "``TimeseriesExtractor`` class, the ``standardize()`` function can be used to perform\n",
    "within-run standardization post-extraction.\n"
   ]
  },
  {
   "cell_type": "code",
   "execution_count": null,
   "metadata": {},
   "outputs": [],
   "source": [
    "# Download packages\n",
    "try:\n",
    "  import neurocaps\n",
    "except:\n",
    "  !pip install neurocaps[windows,demo]"
   ]
  },
  {
   "cell_type": "code",
   "execution_count": null,
   "metadata": {},
   "outputs": [],
   "source": [
    "import numpy as np\n",
    "from neurocaps.analysis import standardize\n",
    "\n",
    "subject_timeseries = {str(x): {f\"run-{y}\": np.random.rand(10, 100) for y in range(1, 4)} for x in range(1, 6)}\n",
    "\n",
    "# Getting mean and standard deviation for run 1 and 2 of subject 1\n",
    "mean_vec_1 = subject_timeseries[\"1\"][\"run-1\"].mean(axis=0)\n",
    "std_vec_1 = subject_timeseries[\"1\"][\"run-1\"].std(ddof=1, axis=0)\n",
    "mean_vec_2 = subject_timeseries[\"1\"][\"run-2\"].mean(axis=0)\n",
    "std_vec_2 = subject_timeseries[\"1\"][\"run-2\"].std(ddof=1, axis=0)\n",
    "\n",
    "# Avoid numerical stability issues\n",
    "std_vec_1[std_vec_1 < np.finfo(std_vec_1.dtype).eps] = 1.0\n",
    "std_vec_2[std_vec_2 < np.finfo(std_vec_2.dtype).eps] = 1.0\n",
    "\n",
    "standardized_subject_timeseries = standardize(subject_timeseries_list=[subject_timeseries])\n",
    "\n",
    "standardized_1 = (subject_timeseries[\"1\"][\"run-1\"] - mean_vec_1) / std_vec_1\n",
    "standardized_2 = (subject_timeseries[\"1\"][\"run-2\"] - mean_vec_2) / std_vec_2\n",
    "\n",
    "print(np.array_equal(standardized_subject_timeseries[\"dict_0\"][\"1\"][\"run-1\"], standardized_1))\n",
    "print(np.array_equal(standardized_subject_timeseries[\"dict_0\"][\"1\"][\"run-2\"], standardized_2))"
   ]
  }
 ],
 "metadata": {
  "language_info": {
   "name": "python"
  }
 },
 "nbformat": 4,
 "nbformat_minor": 2
}
