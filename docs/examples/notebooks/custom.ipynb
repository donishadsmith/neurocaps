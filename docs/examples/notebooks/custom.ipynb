{
 "cells": [
  {
   "cell_type": "markdown",
   "metadata": {},
   "source": [
    "# Tutorial 7: Using Custom Parcellations\n",
    "While NeuroCAPs leverages Nilearn's fetch functions for the [Schaefer](https://nilearn.github.io/stable/modules/generated/nilearn.datasets.fetch_atlas_schaefer_2018.html)\n",
    "and [AAL](https://nilearn.github.io/stable/modules/generated/nilearn.datasets.fetch_atlas_aal.html), additional\n",
    "parcellations (lateralized and non-lateralized) can be manually defined. For custom parcellation approaches, three subkeys are\n",
    "recognized: \"maps\", \"nodes\", and \"regions\". For additional details on these subkeys, refer to the\n",
    "[\"Custom Parcellations\" sub-section](https://neurocaps.readthedocs.io/en/stable/user_guide/parcellations.html#custom-parcellations).\n",
    "\n",
    "For this demonstration, the extended Human Connectome Project multimodal parcellation (HCPex) from\n",
    "[wayalan's Github](https://github.com/wayalan/HCPex/) will be used.\n",
    "\n",
    "**Note:** Non-lateralized parcellations are supported in versions >= 0.30.0."
   ]
  },
  {
   "cell_type": "code",
   "execution_count": null,
   "metadata": {},
   "outputs": [],
   "source": [
    "# Download packages\n",
    "try:\n",
    "    import neurocaps\n",
    "except:\n",
    "    !pip install neurocaps[windows,demo]\n",
    "\n",
    "# Set headless display for google colab\n",
    "import os, sys\n",
    "\n",
    "if \"google.colab\" in sys.modules:\n",
    "    os.environ[\"DISPLAY\"] = \":0.0\"\n",
    "    !apt-get install -y xvfb\n",
    "    !Xvfb :0 -screen 0 1024x768x24 &> /dev/null &\n",
    "    !Xvfb :0 -screen 0 1024x768x24 &> /dev/null &"
   ]
  },
  {
   "cell_type": "code",
   "execution_count": null,
   "metadata": {},
   "outputs": [],
   "source": [
    "# Fetching atlas NiFTI image and labels from Github\n",
    "import os, subprocess, sys\n",
    "\n",
    "demo_dir = \"neurocaps_demo\"\n",
    "os.makedirs(demo_dir, exist_ok=True)\n",
    "\n",
    "if sys.platform != \"win32\":\n",
    "    cmd = [\n",
    "        [\n",
    "            \"wget\",\n",
    "            \"-q\",\n",
    "            \"-P\",\n",
    "            demo_dir,\n",
    "            \"https://github.com/wayalan/HCPex/raw/main/HCPex_v1.1/HCPex_LookUpTable.txt\",\n",
    "        ],\n",
    "        [\n",
    "            \"wget\",\n",
    "            \"-q\",\n",
    "            \"-P\",\n",
    "            demo_dir,\n",
    "            \"https://github.com/wayalan/HCPex/raw/main/HCPex_v1.1/HCPex.nii.gz\",\n",
    "        ],\n",
    "    ]\n",
    "else:\n",
    "    cmd = [\n",
    "        [\n",
    "            \"curl\",\n",
    "            \"-L\",\n",
    "            \"-o\",\n",
    "            f\"{demo_dir}\\\\HCPex_LookUpTable.txt\",\n",
    "            \"https://github.com/wayalan/HCPex/raw/main/HCPex_v1.1/HCPex_LookUpTable.txt\",\n",
    "        ],\n",
    "        [\n",
    "            \"curl\",\n",
    "            \"-L\",\n",
    "            \"-o\",\n",
    "            f\"{demo_dir}\\\\HCPex.nii.gz\",\n",
    "            \"https://github.com/wayalan/HCPex/raw/main/HCPex_v1.1/HCPex.nii.gz\",\n",
    "        ],\n",
    "    ]\n",
    "\n",
    "for command in cmd:\n",
    "    subprocess.run(command, check=True)"
   ]
  },
  {
   "cell_type": "markdown",
   "metadata": {},
   "source": [
    "The code below fetches a single subject from an [OpenNeuro dataset](https://openneuro.org/datasets/ds005381/versions/1.0.0)\n",
    "preprocessed with [fMRIPrep](https://fmriprep.org/en/stable/). Downloading data from OpenNeuro requires\n",
    "``pip install openneuro-py ipywidgets`` or ``pip install neurocaps[demo]``."
   ]
  },
  {
   "cell_type": "code",
   "execution_count": null,
   "metadata": {},
   "outputs": [],
   "source": [
    "# [Dataset] doi: doi:10.18112/openneuro.ds005381.v1.0.0\n",
    "from openneuro import download\n",
    "\n",
    "# Include the run-1 and run-2 data of a single subject\n",
    "include = [\n",
    "    \"dataset_description.json\",\n",
    "    \"sub-0004/ses-2/func/*run-[12]*events*\",\n",
    "    \"derivatives/fmriprep/sub-0004/fmriprep/sub-0004/ses-2/func/*run-[12]*confounds_timeseries*\",\n",
    "    \"derivatives/fmriprep/sub-0004/fmriprep/sub-0004/ses-2/func/*run-[12]_space-MNI152NLin*preproc_bold*\",\n",
    "]\n",
    "\n",
    "download(\n",
    "    dataset=\"ds005381\",\n",
    "    include=include,\n",
    "    target_dir=demo_dir,\n",
    "    verify_hash=False,\n",
    ")"
   ]
  },
  {
   "cell_type": "markdown",
   "metadata": {},
   "source": [
    "The first level of the pipeline directory must also have a dataset_description.json file for querying purposes.\n"
   ]
  },
  {
   "cell_type": "code",
   "execution_count": null,
   "metadata": {},
   "outputs": [],
   "source": [
    "import json\n",
    "\n",
    "desc = {\n",
    "    \"Name\": \"fMRIPrep - fMRI PREProcessing workflow\",\n",
    "    \"BIDSVersion\": \"1.0.0\",\n",
    "    \"DatasetType\": \"derivative\",\n",
    "    \"GeneratedBy\": [\n",
    "        {\"Name\": \"fMRIPrep\", \"Version\": \"20.2.0\", \"CodeURL\": \"https://github.com/nipreps/fmriprep\"}\n",
    "    ],\n",
    "}\n",
    "\n",
    "with open(\n",
    "    \"neurocaps_demo/derivatives/fmriprep/dataset_description.json\", \"w\", encoding=\"utf-8\"\n",
    ") as f:\n",
    "    json.dump(desc, f)"
   ]
  },
  {
   "cell_type": "markdown",
   "metadata": {},
   "source": [
    "## Extracting Timeseries\n",
    "\n",
    "For ``TimeseriesExtractor.get_bold``, only the \"maps\" subkey (the location of the parcellation) needs to be defined.\n"
   ]
  },
  {
   "cell_type": "code",
   "execution_count": null,
   "metadata": {},
   "outputs": [],
   "source": [
    "# Creating custom parcel approach dictionary and extracting timeseries\n",
    "parcel_approach = {\"Custom\": {}}\n",
    "\n",
    "parcel_approach[\"Custom\"][\"maps\"] = os.path.join(demo_dir, \"HCPex.nii.gz\")\n",
    "\n",
    "from neurocaps.extraction import TimeseriesExtractor\n",
    "\n",
    "extractor = TimeseriesExtractor(\n",
    "    space=\"MNI152NLin6Asym\",\n",
    "    parcel_approach=parcel_approach,\n",
    "    standardize=True,\n",
    "    use_confounds=True,\n",
    "    confound_names=\"basic\",\n",
    "    low_pass=0.15,\n",
    "    high_pass=None,\n",
    "    dummy_scans=\"auto\",\n",
    "    fd_threshold={\n",
    "        \"threshold\": 0.5,\n",
    "        \"outlier_percentage\": 0.30,\n",
    "        \"use_sample_mask\": True,\n",
    "        \"interpolate\": False,\n",
    "    },\n",
    ")\n",
    "\n",
    "# Using chaining to extract timeseries data and save dictionary as a pickle file\n",
    "extractor.get_bold(\n",
    "    bids_dir=\"neurocaps_demo\",\n",
    "    session=\"2\",\n",
    "    task=\"DET\",\n",
    "    condition=\"late\",\n",
    "    condition_tr_shift=2,\n",
    "    slice_time_ref=0.5,\n",
    "    n_cores=None,\n",
    "    flush=True,\n",
    "    tr=2,\n",
    "    verbose=True,\n",
    ").timeseries_to_pickle(output_dir=demo_dir, filename=\"openneuro_data.pkl\")"
   ]
  },
  {
   "cell_type": "markdown",
   "metadata": {},
   "source": [
    "For visualization methods in the ``TimeseriesExtractor`` and ``CAP`` classes, the nodes and regions need to be defined.\n",
    "Refer to the documentation for each function to determine which subkeys are required, as some methods only need the\n",
    "\"maps\" subkey, while others require the \"nodes\" and \"regions\" subkeys.\n",
    "\n",
    "The following code defines the nodes and regions of the HCPex parcellation."
   ]
  },
  {
   "cell_type": "code",
   "execution_count": null,
   "metadata": {},
   "outputs": [],
   "source": [
    "import joblib, pandas as pd\n",
    "\n",
    "# Setting the \"nodes\"; needed for `TimeseriesExtractor.visualize_bold`; Getting nodes that don't correspond to\n",
    "# background label\n",
    "parcel_approach[\"Custom\"][\"nodes\"] = pd.read_csv(\n",
    "    os.path.join(demo_dir, \"HCPex_LookUpTable.txt\"),\n",
    "    sep=None,\n",
    "    engine=\"python\",\n",
    ")[\"Label\"].values[1:]\n",
    "\n",
    "# Needed for many plotting methods; Setting the region names and their corresponding indices in the nodes list,\n",
    "# in this case it is just the label id - 1\n",
    "parcel_approach[\"Custom\"][\"regions\"] = {\n",
    "    \"Primary Visual\": {\"lh\": [0], \"rh\": [180]},\n",
    "    \"Early Visual\": {\"lh\": [1, 2, 3], \"rh\": [181, 182, 183]},\n",
    "    \"Dorsal Stream Visual\": {\"lh\": range(4, 10), \"rh\": range(184, 190)},\n",
    "    \"Ventral Stream Visual\": {\"lh\": range(10, 17), \"rh\": range(190, 197)},\n",
    "    \"MT+ Complex\": {\"lh\": range(17, 26), \"rh\": range(197, 206)},\n",
    "    \"SomaSens Motor\": {\"lh\": range(26, 31), \"rh\": range(206, 211)},\n",
    "    \"ParaCentral MidCing\": {\"lh\": range(31, 40), \"rh\": range(211, 220)},\n",
    "    \"Premotor\": {\"lh\": range(40, 47), \"rh\": range(220, 227)},\n",
    "    \"Posterior Opercular\": {\"lh\": range(47, 52), \"rh\": range(227, 232)},\n",
    "    \"Early Auditory\": {\"lh\": range(52, 59), \"rh\": range(232, 239)},\n",
    "    \"Auditory Association\": {\"lh\": range(59, 67), \"rh\": range(239, 247)},\n",
    "    \"Insula FrontalOperc\": {\"lh\": range(67, 79), \"rh\": range(247, 259)},\n",
    "    \"Medial Temporal\": {\"lh\": range(79, 87), \"rh\": range(259, 267)},\n",
    "    \"Lateral Temporal\": {\"lh\": range(87, 95), \"rh\": range(267, 275)},\n",
    "    \"TPO\": {\"lh\": range(95, 100), \"rh\": range(275, 280)},\n",
    "    \"Superior Parietal\": {\"lh\": range(100, 110), \"rh\": range(280, 290)},\n",
    "    \"Inferior Parietal\": {\"lh\": range(110, 120), \"rh\": range(290, 300)},\n",
    "    \"Posterior Cingulate\": {\"lh\": range(120, 133), \"rh\": range(300, 313)},\n",
    "    \"AntCing MedPFC\": {\"lh\": range(133, 149), \"rh\": range(313, 329)},\n",
    "    \"OrbPolaFrontal\": {\"lh\": range(149, 158), \"rh\": range(329, 338)},\n",
    "    \"Inferior Frontal\": {\"lh\": range(158, 167), \"rh\": range(338, 347)},\n",
    "    \"Dorsolateral Prefrontal\": {\"lh\": range(167, 180), \"rh\": range(347, 360)},\n",
    "    \"Subcortical Regions\": {\"lh\": range(360, 393), \"rh\": range(393, 426)},\n",
    "}\n",
    "\n",
    "# Saving the dictionary as a pickle file for long-term storage\n",
    "with open(os.path.join(demo_dir, \"HCPex_dict.pkl\"), \"wb\") as f:\n",
    "    joblib.dump(parcel_approach, f)"
   ]
  },
  {
   "cell_type": "markdown",
   "metadata": {},
   "source": [
    "## Visualizing BOLD data"
   ]
  },
  {
   "cell_type": "code",
   "execution_count": null,
   "metadata": {},
   "outputs": [],
   "source": [
    "# Setting updated parcellation approach\n",
    "extractor.parcel_approach = parcel_approach\n",
    "\n",
    "extractor.visualize_bold(\n",
    "    subj_id=\"0004\", run=1, region=\"TPO\", figsize=(5, 4), output_dir=demo_dir, filename=\"HCPex_TPO\"\n",
    ")"
   ]
  },
  {
   "cell_type": "markdown",
   "metadata": {},
   "source": [
    "## Extracting CAPs\n",
    "\n",
    "The following code uses ``CAP.get_bold`` to extract two CAPs."
   ]
  },
  {
   "cell_type": "code",
   "execution_count": null,
   "metadata": {},
   "outputs": [],
   "source": [
    "from neurocaps.analysis import CAP\n",
    "\n",
    "# Will use the setter method to set the parcel approach later since a parcel approach\n",
    "# does not need to be defined for the `get_caps` method\n",
    "cap_analysis = CAP(parcel_approach=None)\n",
    "\n",
    "# Either method works\n",
    "cap_analysis.get_caps(subject_timeseries=extractor.subject_timeseries, n_clusters=2)\n",
    "\n",
    "# Alternative approach using pickle file:\n",
    "# cap_analysis.get_caps(subject_timeseries=\"openneuro_data.pkl\", n_clusters=2)"
   ]
  },
  {
   "cell_type": "markdown",
   "metadata": {},
   "source": [
    "## Surface Plotting with and without KNN Interpolation\n",
    "\n",
    "For the following code, the CAPs will be plotted to surface space with and without KNN (K-Nearest Neighbors)\n",
    "interpolation. Some parcellations may have issues projecting from MNI space to fsLR space. The ``knn_dict`` parameter,\n",
    "which is available in both ``CAP.caps2niftis()`` and ``CAP.caps2surf()`` can be used to improve the visualization. The\n",
    "KNN method uses a reference atlas (either Schaefer or AAL) as a mask to determine the non-background voxels to\n",
    "interpolate prior to projecting from MNI to fsLR space. *Note, for this method, only the \"maps\" subkey is required, the\n",
    "other subkeys are optional*."
   ]
  },
  {
   "cell_type": "code",
   "execution_count": null,
   "metadata": {},
   "outputs": [],
   "source": [
    "# Setting parcellation approach using pickle file\n",
    "cap_analysis.parcel_approach = os.path.join(demo_dir, \"HCPex_dict.pkl\")\n",
    "\n",
    "# Without KNN interpolation\n",
    "cap_analysis.caps2surf(\n",
    "    size=(500, 100),\n",
    "    layout=\"row\",\n",
    "    color_range=[-1, 1],\n",
    "    output_dir=demo_dir,\n",
    "    suffix_title=\"- No KNN Interpolation\",\n",
    "    suffix_filename=\"original\",\n",
    ")\n",
    "\n",
    "# With KNN interpolation\n",
    "cap_analysis.caps2surf(\n",
    "    size=(500, 100),\n",
    "    layout=\"row\",\n",
    "    color_range=[-1, 1],\n",
    "    knn_dict={\"k\": 5, \"reference_atlas\": \"Schaefer\"},\n",
    "    output_dir=demo_dir,\n",
    "    suffix_title=\"- With KNN Interpolation\",\n",
    "    suffix_filename=\"KNN\",\n",
    ")"
   ]
  },
  {
   "cell_type": "markdown",
   "metadata": {},
   "source": [
    "## Simulated Example with Schaefer 4S"
   ]
  },
  {
   "cell_type": "code",
   "execution_count": 3,
   "metadata": {},
   "outputs": [],
   "source": [
    "# Fetching atlas NiFTI image and labels from Github\n",
    "if sys.platform != \"win32\":\n",
    "    cmd = [\n",
    "        [\n",
    "            \"wget\",\n",
    "            \"-q\",\n",
    "            \"-P\",\n",
    "            \"neurocaps_demo\",\n",
    "            \"https://github.com/PennLINC/AtlasPack/raw/main/atlas-4S156Parcels_dseg.tsv\",\n",
    "        ],\n",
    "    ]\n",
    "else:\n",
    "    cmd = [\n",
    "        [\n",
    "            \"curl\",\n",
    "            \"-L\",\n",
    "            \"-o\",\n",
    "            \"neurocaps_demo\\\\atlas-4S156Parcels_dseg.tsv\",\n",
    "            \"https://github.com/PennLINC/AtlasPack/raw/main/atlas-4S156Parcels_dseg.tsv\",\n",
    "        ],\n",
    "    ]\n",
    "\n",
    "for command in cmd:\n",
    "    subprocess.run(command, check=True)\n",
    "\n",
    "# Creating custom parcel approach dictionary and extracting timeseries\n",
    "parcel_approach = {\"Custom\": {}}\n",
    "\n",
    "# Setting the \"nodes\", which is needed for \"TimeseriesExtractor.visualize_bold\";\n",
    "# Getting nodes that don't correspond to background label\n",
    "parcel_approach[\"Custom\"][\"nodes\"] = pd.read_csv(\n",
    "    \"neurocaps_demo\\\\atlas-4S156Parcels_dseg.tsv\",\n",
    "    sep=\"\\t\",\n",
    ")[\"label\"].values\n",
    "\n",
    "# Needed for many plotting methods; Setting the region names and their corresponding indices\n",
    "# in the nodes list in this case it is just the label id - 1\n",
    "parcel_approach[\"Custom\"][\"regions\"] = {\n",
    "    \"Visual\": [*range(0, 9), *range(50, 58)],\n",
    "    \"SMN\": [*range(9, 15), *range(58, 66)],\n",
    "    \"DAN\": [*range(15, 23), *range(66, 73)],\n",
    "    \"VAN\": [*range(23, 30), *range(73, 78)],\n",
    "    \"Limbic\":[*range(30, 33), *range(78, 80)],\n",
    "    \"Cont\": [*range(33, 37), *range(80, 89)],\n",
    "    \"DMN\": [*range(37, 50), *range(89, 100)],\n",
    "    \"Subcortical\": [*range(100, 146)],\n",
    "    \"Cerebellar\": [*range(100, 156)],\n",
    "}\n"
   ]
  },
  {
   "cell_type": "code",
   "execution_count": 4,
   "metadata": {},
   "outputs": [
    {
     "name": "stdout",
     "output_type": "stream",
     "text": [
      "2025-06-13 06:22:05,926 neurocaps.analysis.cap [INFO] No groups specified. Using default group 'All Subjects' containing all subject IDs from `subject_timeseries`. The `self.groups` dictionary will remain fixed unless the `CAP` class is re-initialized or `self.clear_groups()` is used.\n"
     ]
    },
    {
     "data": {
      "text/plain": [
       "<neurocaps.analysis.cap.CAP at 0x1e0bf6b9f10>"
      ]
     },
     "execution_count": 4,
     "metadata": {},
     "output_type": "execute_result"
    }
   ],
   "source": [
    "import numpy as np\n",
    "\n",
    "sub_ids = [f\"0{x}\" if x < 10 else x for x in range(1, 11)]\n",
    "subject_timeseries = {\n",
    "    str(x): {f\"run-{y}\": np.random.rand(50, 156) for y in range(1, 4)} for x in sub_ids\n",
    "}\n",
    "\n",
    "cap_analysis = CAP(parcel_approach=None)\n",
    "cap_analysis.parcel_approach = parcel_approach\n",
    "cap_analysis.get_caps(subject_timeseries=subject_timeseries, n_clusters=3)\n"
   ]
  },
  {
   "cell_type": "code",
   "execution_count": 5,
   "metadata": {},
   "outputs": [
    {
     "data": {
      "image/png": "[encoded data removed]",
      "text/plain": [
       "<Figure size 800x600 with 2 Axes>"
      ]
     },
     "metadata": {},
     "output_type": "display_data"
    },
    {
     "data": {
      "image/png": "[encoded data removed]",
      "text/plain": [
       "<Figure size 2400x600 with 6 Axes>"
      ]
     },
     "metadata": {},
     "output_type": "display_data"
    },
    {
     "data": {
      "text/plain": [
       "<neurocaps.analysis.cap.CAP at 0x1e0bf6b9f10>"
      ]
     },
     "execution_count": 5,
     "metadata": {},
     "output_type": "execute_result"
    }
   ],
   "source": [
    "import seaborn as sns\n",
    "\n",
    "sns.diverging_palette(145, 300, s=60, as_cmap=True)\n",
    "\n",
    "palette = sns.diverging_palette(260, 10, s=80, l=55, n=256, as_cmap=True)\n",
    "\n",
    "cap_analysis.caps2plot(visual_scope=\"regions\", plot_options=\"heatmap\", borderwidths=10)\n",
    "\n",
    "cap_analysis.caps2plot(\n",
    "    visual_scope=\"regions\",\n",
    "    plot_options=\"outer_product\",\n",
    "    subplots=True,\n",
    "    fontsize=14,\n",
    "    tight_layout=False,\n",
    "    xlabel_rotation=90,\n",
    "    hspace=0.3,\n",
    "    cmap=palette,\n",
    "    output_dir=\"neurocaps_demo\",\n",
    ")"
   ]
  },
  {
   "cell_type": "code",
   "execution_count": 7,
   "metadata": {},
   "outputs": [
    {
     "data": {
      "application/vnd.plotly.v1+json": {
       "config": {
        "plotlyServerURL": "https://plot.ly"
       },
       "data": [
        {
         "connectgaps": true,
         "fill": "toself",
         "line": {
          "color": "rgba(255, 165, 0, 0.75)",
          "width": 2
         },
         "marker": {
          "color": "rgba(255, 165, 0, 0.75)",
          "size": 8
         },
         "mode": "markers+lines",
         "name": "High Amplitude",
         "opacity": 0.5,
         "r": [
          0.2286874239449203,
          0.09191378348493488,
          0.18310284835085247,
          0.26097018080793444,
          0.10337664926726706,
          0.15570869909928536,
          0.12652044101877735,
          0.3043382543057365,
          0.3358624530259237
         ],
         "theta": [
          "Visual",
          "SMN",
          "DAN",
          "VAN",
          "Limbic",
          "Cont",
          "DMN",
          "Subcortical",
          "Cerebellar"
         ],
         "type": "scatterpolar"
        },
        {
         "connectgaps": true,
         "fill": "toself",
         "line": {
          "color": "black",
          "width": 2
         },
         "marker": {
          "color": "black",
          "size": 8
         },
         "mode": "markers+lines",
         "name": "Low Amplitude",
         "opacity": 0.5,
         "r": [
          0.11452514947242123,
          0.306019647632966,
          0.1887919866843752,
          0.10737791612306595,
          0.0867063583984996,
          0.12761724253968554,
          0.2826070823401121,
          0.2675133069310258,
          0.3241822909675345
         ],
         "theta": [
          "Visual",
          "SMN",
          "DAN",
          "VAN",
          "Limbic",
          "Cont",
          "DMN",
          "Subcortical",
          "Cerebellar"
         ],
         "type": "scatterpolar"
        }
       ],
       "layout": {
        "height": 800,
        "legend": {
         "font": {
          "color": "black",
          "size": 12
         },
         "title": {
          "font": {
           "family": "Times New Roman"
          },
          "text": "Cosine Similarity"
         },
         "x": 0.01,
         "xanchor": "left",
         "y": 0.99,
         "yanchor": "top"
        },
        "polar": {
         "angularaxis": {
          "gridcolor": "rgba(0, 0, 0, 0.25)",
          "linecolor": "rgba(0, 0, 0, 0.25)",
          "linewidth": 2,
          "showline": true,
          "tickfont": {
           "color": "black",
           "size": 16
          }
         },
         "bgcolor": "white",
         "radialaxis": {
          "gridcolor": "rgba(0, 0, 0, 0.25)",
          "linecolor": "rgba(0, 0, 0, 0.25)",
          "linewidth": 2,
          "range": [
           0,
           0.5
          ],
          "showline": true,
          "tickfont": {
           "color": "black",
           "size": 14
          },
          "ticks": "outside",
          "tickvals": [
           0.1,
           "",
           0.3,
           "",
           0.5
          ]
         }
        },
        "showlegend": true,
        "template": {
         "data": {
          "bar": [
           {
            "error_x": {
             "color": "#2a3f5f"
            },
            "error_y": {
             "color": "#2a3f5f"
            },
            "marker": {
             "line": {
              "color": "#E5ECF6",
              "width": 0.5
             },
             "pattern": {
              "fillmode": "overlay",
              "size": 10,
              "solidity": 0.2
             }
            },
            "type": "bar"
           }
          ],
          "barpolar": [
           {
            "marker": {
             "line": {
              "color": "#E5ECF6",
              "width": 0.5
             },
             "pattern": {
              "fillmode": "overlay",
              "size": 10,
              "solidity": 0.2
             }
            },
            "type": "barpolar"
           }
          ],
          "carpet": [
           {
            "aaxis": {
             "endlinecolor": "#2a3f5f",
             "gridcolor": "white",
             "linecolor": "white",
             "minorgridcolor": "white",
             "startlinecolor": "#2a3f5f"
            },
            "baxis": {
             "endlinecolor": "#2a3f5f",
             "gridcolor": "white",
             "linecolor": "white",
             "minorgridcolor": "white",
             "startlinecolor": "#2a3f5f"
            },
            "type": "carpet"
           }
          ],
          "choropleth": [
           {
            "colorbar": {
             "outlinewidth": 0,
             "ticks": ""
            },
            "type": "choropleth"
           }
          ],
          "contour": [
           {
            "colorbar": {
             "outlinewidth": 0,
             "ticks": ""
            },
            "colorscale": [
             [
              0,
              "#0d0887"
             ],
             [
              0.1111111111111111,
              "#46039f"
             ],
             [
              0.2222222222222222,
              "#7201a8"
             ],
             [
              0.3333333333333333,
              "#9c179e"
             ],
             [
              0.4444444444444444,
              "#bd3786"
             ],
             [
              0.5555555555555556,
              "#d8576b"
             ],
             [
              0.6666666666666666,
              "#ed7953"
             ],
             [
              0.7777777777777778,
              "#fb9f3a"
             ],
             [
              0.8888888888888888,
              "#fdca26"
             ],
             [
              1,
              "#f0f921"
             ]
            ],
            "type": "contour"
           }
          ],
          "contourcarpet": [
           {
            "colorbar": {
             "outlinewidth": 0,
             "ticks": ""
            },
            "type": "contourcarpet"
           }
          ],
          "heatmap": [
           {
            "colorbar": {
             "outlinewidth": 0,
             "ticks": ""
            },
            "colorscale": [
             [
              0,
              "#0d0887"
             ],
             [
              0.1111111111111111,
              "#46039f"
             ],
             [
              0.2222222222222222,
              "#7201a8"
             ],
             [
              0.3333333333333333,
              "#9c179e"
             ],
             [
              0.4444444444444444,
              "#bd3786"
             ],
             [
              0.5555555555555556,
              "#d8576b"
             ],
             [
              0.6666666666666666,
              "#ed7953"
             ],
             [
              0.7777777777777778,
              "#fb9f3a"
             ],
             [
              0.8888888888888888,
              "#fdca26"
             ],
             [
              1,
              "#f0f921"
             ]
            ],
            "type": "heatmap"
           }
          ],
          "histogram": [
           {
            "marker": {
             "pattern": {
              "fillmode": "overlay",
              "size": 10,
              "solidity": 0.2
             }
            },
            "type": "histogram"
           }
          ],
          "histogram2d": [
           {
            "colorbar": {
             "outlinewidth": 0,
             "ticks": ""
            },
            "colorscale": [
             [
              0,
              "#0d0887"
             ],
             [
              0.1111111111111111,
              "#46039f"
             ],
             [
              0.2222222222222222,
              "#7201a8"
             ],
             [
              0.3333333333333333,
              "#9c179e"
             ],
             [
              0.4444444444444444,
              "#bd3786"
             ],
             [
              0.5555555555555556,
              "#d8576b"
             ],
             [
              0.6666666666666666,
              "#ed7953"
             ],
             [
              0.7777777777777778,
              "#fb9f3a"
             ],
             [
              0.8888888888888888,
              "#fdca26"
             ],
             [
              1,
              "#f0f921"
             ]
            ],
            "type": "histogram2d"
           }
          ],
          "histogram2dcontour": [
           {
            "colorbar": {
             "outlinewidth": 0,
             "ticks": ""
            },
            "colorscale": [
             [
              0,
              "#0d0887"
             ],
             [
              0.1111111111111111,
              "#46039f"
             ],
             [
              0.2222222222222222,
              "#7201a8"
             ],
             [
              0.3333333333333333,
              "#9c179e"
             ],
             [
              0.4444444444444444,
              "#bd3786"
             ],
             [
              0.5555555555555556,
              "#d8576b"
             ],
             [
              0.6666666666666666,
              "#ed7953"
             ],
             [
              0.7777777777777778,
              "#fb9f3a"
             ],
             [
              0.8888888888888888,
              "#fdca26"
             ],
             [
              1,
              "#f0f921"
             ]
            ],
            "type": "histogram2dcontour"
           }
          ],
          "mesh3d": [
           {
            "colorbar": {
             "outlinewidth": 0,
             "ticks": ""
            },
            "type": "mesh3d"
           }
          ],
          "parcoords": [
           {
            "line": {
             "colorbar": {
              "outlinewidth": 0,
              "ticks": ""
             }
            },
            "type": "parcoords"
           }
          ],
          "pie": [
           {
            "automargin": true,
            "type": "pie"
           }
          ],
          "scatter": [
           {
            "fillpattern": {
             "fillmode": "overlay",
             "size": 10,
             "solidity": 0.2
            },
            "type": "scatter"
           }
          ],
          "scatter3d": [
           {
            "line": {
             "colorbar": {
              "outlinewidth": 0,
              "ticks": ""
             }
            },
            "marker": {
             "colorbar": {
              "outlinewidth": 0,
              "ticks": ""
             }
            },
            "type": "scatter3d"
           }
          ],
          "scattercarpet": [
           {
            "marker": {
             "colorbar": {
              "outlinewidth": 0,
              "ticks": ""
             }
            },
            "type": "scattercarpet"
           }
          ],
          "scattergeo": [
           {
            "marker": {
             "colorbar": {
              "outlinewidth": 0,
              "ticks": ""
             }
            },
            "type": "scattergeo"
           }
          ],
          "scattergl": [
           {
            "marker": {
             "colorbar": {
              "outlinewidth": 0,
              "ticks": ""
             }
            },
            "type": "scattergl"
           }
          ],
          "scattermap": [
           {
            "marker": {
             "colorbar": {
              "outlinewidth": 0,
              "ticks": ""
             }
            },
            "type": "scattermap"
           }
          ],
          "scattermapbox": [
           {
            "marker": {
             "colorbar": {
              "outlinewidth": 0,
              "ticks": ""
             }
            },
            "type": "scattermapbox"
           }
          ],
          "scatterpolar": [
           {
            "marker": {
             "colorbar": {
              "outlinewidth": 0,
              "ticks": ""
             }
            },
            "type": "scatterpolar"
           }
          ],
          "scatterpolargl": [
           {
            "marker": {
             "colorbar": {
              "outlinewidth": 0,
              "ticks": ""
             }
            },
            "type": "scatterpolargl"
           }
          ],
          "scatterternary": [
           {
            "marker": {
             "colorbar": {
              "outlinewidth": 0,
              "ticks": ""
             }
            },
            "type": "scatterternary"
           }
          ],
          "surface": [
           {
            "colorbar": {
             "outlinewidth": 0,
             "ticks": ""
            },
            "colorscale": [
             [
              0,
              "#0d0887"
             ],
             [
              0.1111111111111111,
              "#46039f"
             ],
             [
              0.2222222222222222,
              "#7201a8"
             ],
             [
              0.3333333333333333,
              "#9c179e"
             ],
             [
              0.4444444444444444,
              "#bd3786"
             ],
             [
              0.5555555555555556,
              "#d8576b"
             ],
             [
              0.6666666666666666,
              "#ed7953"
             ],
             [
              0.7777777777777778,
              "#fb9f3a"
             ],
             [
              0.8888888888888888,
              "#fdca26"
             ],
             [
              1,
              "#f0f921"
             ]
            ],
            "type": "surface"
           }
          ],
          "table": [
           {
            "cells": {
             "fill": {
              "color": "#EBF0F8"
             },
             "line": {
              "color": "white"
             }
            },
            "header": {
             "fill": {
              "color": "#C8D4E3"
             },
             "line": {
              "color": "white"
             }
            },
            "type": "table"
           }
          ]
         },
         "layout": {
          "annotationdefaults": {
           "arrowcolor": "#2a3f5f",
           "arrowhead": 0,
           "arrowwidth": 1
          },
          "autotypenumbers": "strict",
          "coloraxis": {
           "colorbar": {
            "outlinewidth": 0,
            "ticks": ""
           }
          },
          "colorscale": {
           "diverging": [
            [
             0,
             "#8e0152"
            ],
            [
             0.1,
             "#c51b7d"
            ],
            [
             0.2,
             "#de77ae"
            ],
            [
             0.3,
             "#f1b6da"
            ],
            [
             0.4,
             "#fde0ef"
            ],
            [
             0.5,
             "#f7f7f7"
            ],
            [
             0.6,
             "#e6f5d0"
            ],
            [
             0.7,
             "#b8e186"
            ],
            [
             0.8,
             "#7fbc41"
            ],
            [
             0.9,
             "#4d9221"
            ],
            [
             1,
             "#276419"
            ]
           ],
           "sequential": [
            [
             0,
             "#0d0887"
            ],
            [
             0.1111111111111111,
             "#46039f"
            ],
            [
             0.2222222222222222,
             "#7201a8"
            ],
            [
             0.3333333333333333,
             "#9c179e"
            ],
            [
             0.4444444444444444,
             "#bd3786"
            ],
            [
             0.5555555555555556,
             "#d8576b"
            ],
            [
             0.6666666666666666,
             "#ed7953"
            ],
            [
             0.7777777777777778,
             "#fb9f3a"
            ],
            [
             0.8888888888888888,
             "#fdca26"
            ],
            [
             1,
             "#f0f921"
            ]
           ],
           "sequentialminus": [
            [
             0,
             "#0d0887"
            ],
            [
             0.1111111111111111,
             "#46039f"
            ],
            [
             0.2222222222222222,
             "#7201a8"
            ],
            [
             0.3333333333333333,
             "#9c179e"
            ],
            [
             0.4444444444444444,
             "#bd3786"
            ],
            [
             0.5555555555555556,
             "#d8576b"
            ],
            [
             0.6666666666666666,
             "#ed7953"
            ],
            [
             0.7777777777777778,
             "#fb9f3a"
            ],
            [
             0.8888888888888888,
             "#fdca26"
            ],
            [
             1,
             "#f0f921"
            ]
           ]
          },
          "colorway": [
           "#636efa",
           "#EF553B",
           "#00cc96",
           "#ab63fa",
           "#FFA15A",
           "#19d3f3",
           "#FF6692",
           "#B6E880",
           "#FF97FF",
           "#FECB52"
          ],
          "font": {
           "color": "#2a3f5f"
          },
          "geo": {
           "bgcolor": "white",
           "lakecolor": "white",
           "landcolor": "#E5ECF6",
           "showlakes": true,
           "showland": true,
           "subunitcolor": "white"
          },
          "hoverlabel": {
           "align": "left"
          },
          "hovermode": "closest",
          "mapbox": {
           "style": "light"
          },
          "paper_bgcolor": "white",
          "plot_bgcolor": "#E5ECF6",
          "polar": {
           "angularaxis": {
            "gridcolor": "white",
            "linecolor": "white",
            "ticks": ""
           },
           "bgcolor": "#E5ECF6",
           "radialaxis": {
            "gridcolor": "white",
            "linecolor": "white",
            "ticks": ""
           }
          },
          "scene": {
           "xaxis": {
            "backgroundcolor": "#E5ECF6",
            "gridcolor": "white",
            "gridwidth": 2,
            "linecolor": "white",
            "showbackground": true,
            "ticks": "",
            "zerolinecolor": "white"
           },
           "yaxis": {
            "backgroundcolor": "#E5ECF6",
            "gridcolor": "white",
            "gridwidth": 2,
            "linecolor": "white",
            "showbackground": true,
            "ticks": "",
            "zerolinecolor": "white"
           },
           "zaxis": {
            "backgroundcolor": "#E5ECF6",
            "gridcolor": "white",
            "gridwidth": 2,
            "linecolor": "white",
            "showbackground": true,
            "ticks": "",
            "zerolinecolor": "white"
           }
          },
          "shapedefaults": {
           "line": {
            "color": "#2a3f5f"
           }
          },
          "ternary": {
           "aaxis": {
            "gridcolor": "white",
            "linecolor": "white",
            "ticks": ""
           },
           "baxis": {
            "gridcolor": "white",
            "linecolor": "white",
            "ticks": ""
           },
           "bgcolor": "#E5ECF6",
           "caxis": {
            "gridcolor": "white",
            "linecolor": "white",
            "ticks": ""
           }
          },
          "title": {
           "x": 0.05
          },
          "xaxis": {
           "automargin": true,
           "gridcolor": "white",
           "linecolor": "white",
           "ticks": "",
           "title": {
            "standoff": 15
           },
           "zerolinecolor": "white",
           "zerolinewidth": 2
          },
          "yaxis": {
           "automargin": true,
           "gridcolor": "white",
           "linecolor": "white",
           "ticks": "",
           "title": {
            "standoff": 15
           },
           "zerolinecolor": "white",
           "zerolinewidth": 2
          }
         }
        },
        "title": {
         "font": {
          "color": "black",
          "family": "Times New Roman",
          "size": 30
         },
         "text": "All Subjects CAP-1",
         "x": 0.5
        },
        "width": 1200
       }
      }
     },
     "metadata": {},
     "output_type": "display_data"
    },
    {
     "data": {
      "application/vnd.plotly.v1+json": {
       "config": {
        "plotlyServerURL": "https://plot.ly"
       },
       "data": [
        {
         "connectgaps": true,
         "fill": "toself",
         "line": {
          "color": "rgba(255, 165, 0, 0.75)",
          "width": 2
         },
         "marker": {
          "color": "rgba(255, 165, 0, 0.75)",
          "size": 8
         },
         "mode": "markers+lines",
         "name": "High Amplitude",
         "opacity": 0.5,
         "r": [
          0.07072678517026428,
          0.19087342247954006,
          0.268522940741222,
          0.12611550194387267,
          0.14380287330558628,
          0.22666370157218857,
          0.2628982127985598,
          0.2388906423028128,
          0.27306378914524737
         ],
         "theta": [
          "Visual",
          "SMN",
          "DAN",
          "VAN",
          "Limbic",
          "Cont",
          "DMN",
          "Subcortical",
          "Cerebellar"
         ],
         "type": "scatterpolar"
        },
        {
         "connectgaps": true,
         "fill": "toself",
         "line": {
          "color": "black",
          "width": 2
         },
         "marker": {
          "color": "black",
          "size": 8
         },
         "mode": "markers+lines",
         "name": "Low Amplitude",
         "opacity": 0.5,
         "r": [
          0.3258698151549891,
          0.07754353203992216,
          0.11197459987520711,
          0.1700202286007818,
          0.019595438460769325,
          0.07821704588462929,
          0.17601742420507002,
          0.3843457992733135,
          0.44055389001081213
         ],
         "theta": [
          "Visual",
          "SMN",
          "DAN",
          "VAN",
          "Limbic",
          "Cont",
          "DMN",
          "Subcortical",
          "Cerebellar"
         ],
         "type": "scatterpolar"
        }
       ],
       "layout": {
        "height": 800,
        "legend": {
         "font": {
          "color": "black",
          "size": 12
         },
         "title": {
          "font": {
           "family": "Times New Roman"
          },
          "text": "Cosine Similarity"
         },
         "x": 0.01,
         "xanchor": "left",
         "y": 0.99,
         "yanchor": "top"
        },
        "polar": {
         "angularaxis": {
          "gridcolor": "rgba(0, 0, 0, 0.25)",
          "linecolor": "rgba(0, 0, 0, 0.25)",
          "linewidth": 2,
          "showline": true,
          "tickfont": {
           "color": "black",
           "size": 16
          }
         },
         "bgcolor": "white",
         "radialaxis": {
          "gridcolor": "rgba(0, 0, 0, 0.25)",
          "linecolor": "rgba(0, 0, 0, 0.25)",
          "linewidth": 2,
          "range": [
           0,
           0.5
          ],
          "showline": true,
          "tickfont": {
           "color": "black",
           "size": 14
          },
          "ticks": "outside",
          "tickvals": [
           0.1,
           "",
           0.3,
           "",
           0.5
          ]
         }
        },
        "showlegend": true,
        "template": {
         "data": {
          "bar": [
           {
            "error_x": {
             "color": "#2a3f5f"
            },
            "error_y": {
             "color": "#2a3f5f"
            },
            "marker": {
             "line": {
              "color": "#E5ECF6",
              "width": 0.5
             },
             "pattern": {
              "fillmode": "overlay",
              "size": 10,
              "solidity": 0.2
             }
            },
            "type": "bar"
           }
          ],
          "barpolar": [
           {
            "marker": {
             "line": {
              "color": "#E5ECF6",
              "width": 0.5
             },
             "pattern": {
              "fillmode": "overlay",
              "size": 10,
              "solidity": 0.2
             }
            },
            "type": "barpolar"
           }
          ],
          "carpet": [
           {
            "aaxis": {
             "endlinecolor": "#2a3f5f",
             "gridcolor": "white",
             "linecolor": "white",
             "minorgridcolor": "white",
             "startlinecolor": "#2a3f5f"
            },
            "baxis": {
             "endlinecolor": "#2a3f5f",
             "gridcolor": "white",
             "linecolor": "white",
             "minorgridcolor": "white",
             "startlinecolor": "#2a3f5f"
            },
            "type": "carpet"
           }
          ],
          "choropleth": [
           {
            "colorbar": {
             "outlinewidth": 0,
             "ticks": ""
            },
            "type": "choropleth"
           }
          ],
          "contour": [
           {
            "colorbar": {
             "outlinewidth": 0,
             "ticks": ""
            },
            "colorscale": [
             [
              0,
              "#0d0887"
             ],
             [
              0.1111111111111111,
              "#46039f"
             ],
             [
              0.2222222222222222,
              "#7201a8"
             ],
             [
              0.3333333333333333,
              "#9c179e"
             ],
             [
              0.4444444444444444,
              "#bd3786"
             ],
             [
              0.5555555555555556,
              "#d8576b"
             ],
             [
              0.6666666666666666,
              "#ed7953"
             ],
             [
              0.7777777777777778,
              "#fb9f3a"
             ],
             [
              0.8888888888888888,
              "#fdca26"
             ],
             [
              1,
              "#f0f921"
             ]
            ],
            "type": "contour"
           }
          ],
          "contourcarpet": [
           {
            "colorbar": {
             "outlinewidth": 0,
             "ticks": ""
            },
            "type": "contourcarpet"
           }
          ],
          "heatmap": [
           {
            "colorbar": {
             "outlinewidth": 0,
             "ticks": ""
            },
            "colorscale": [
             [
              0,
              "#0d0887"
             ],
             [
              0.1111111111111111,
              "#46039f"
             ],
             [
              0.2222222222222222,
              "#7201a8"
             ],
             [
              0.3333333333333333,
              "#9c179e"
             ],
             [
              0.4444444444444444,
              "#bd3786"
             ],
             [
              0.5555555555555556,
              "#d8576b"
             ],
             [
              0.6666666666666666,
              "#ed7953"
             ],
             [
              0.7777777777777778,
              "#fb9f3a"
             ],
             [
              0.8888888888888888,
              "#fdca26"
             ],
             [
              1,
              "#f0f921"
             ]
            ],
            "type": "heatmap"
           }
          ],
          "histogram": [
           {
            "marker": {
             "pattern": {
              "fillmode": "overlay",
              "size": 10,
              "solidity": 0.2
             }
            },
            "type": "histogram"
           }
          ],
          "histogram2d": [
           {
            "colorbar": {
             "outlinewidth": 0,
             "ticks": ""
            },
            "colorscale": [
             [
              0,
              "#0d0887"
             ],
             [
              0.1111111111111111,
              "#46039f"
             ],
             [
              0.2222222222222222,
              "#7201a8"
             ],
             [
              0.3333333333333333,
              "#9c179e"
             ],
             [
              0.4444444444444444,
              "#bd3786"
             ],
             [
              0.5555555555555556,
              "#d8576b"
             ],
             [
              0.6666666666666666,
              "#ed7953"
             ],
             [
              0.7777777777777778,
              "#fb9f3a"
             ],
             [
              0.8888888888888888,
              "#fdca26"
             ],
             [
              1,
              "#f0f921"
             ]
            ],
            "type": "histogram2d"
           }
          ],
          "histogram2dcontour": [
           {
            "colorbar": {
             "outlinewidth": 0,
             "ticks": ""
            },
            "colorscale": [
             [
              0,
              "#0d0887"
             ],
             [
              0.1111111111111111,
              "#46039f"
             ],
             [
              0.2222222222222222,
              "#7201a8"
             ],
             [
              0.3333333333333333,
              "#9c179e"
             ],
             [
              0.4444444444444444,
              "#bd3786"
             ],
             [
              0.5555555555555556,
              "#d8576b"
             ],
             [
              0.6666666666666666,
              "#ed7953"
             ],
             [
              0.7777777777777778,
              "#fb9f3a"
             ],
             [
              0.8888888888888888,
              "#fdca26"
             ],
             [
              1,
              "#f0f921"
             ]
            ],
            "type": "histogram2dcontour"
           }
          ],
          "mesh3d": [
           {
            "colorbar": {
             "outlinewidth": 0,
             "ticks": ""
            },
            "type": "mesh3d"
           }
          ],
          "parcoords": [
           {
            "line": {
             "colorbar": {
              "outlinewidth": 0,
              "ticks": ""
             }
            },
            "type": "parcoords"
           }
          ],
          "pie": [
           {
            "automargin": true,
            "type": "pie"
           }
          ],
          "scatter": [
           {
            "fillpattern": {
             "fillmode": "overlay",
             "size": 10,
             "solidity": 0.2
            },
            "type": "scatter"
           }
          ],
          "scatter3d": [
           {
            "line": {
             "colorbar": {
              "outlinewidth": 0,
              "ticks": ""
             }
            },
            "marker": {
             "colorbar": {
              "outlinewidth": 0,
              "ticks": ""
             }
            },
            "type": "scatter3d"
           }
          ],
          "scattercarpet": [
           {
            "marker": {
             "colorbar": {
              "outlinewidth": 0,
              "ticks": ""
             }
            },
            "type": "scattercarpet"
           }
          ],
          "scattergeo": [
           {
            "marker": {
             "colorbar": {
              "outlinewidth": 0,
              "ticks": ""
             }
            },
            "type": "scattergeo"
           }
          ],
          "scattergl": [
           {
            "marker": {
             "colorbar": {
              "outlinewidth": 0,
              "ticks": ""
             }
            },
            "type": "scattergl"
           }
          ],
          "scattermap": [
           {
            "marker": {
             "colorbar": {
              "outlinewidth": 0,
              "ticks": ""
             }
            },
            "type": "scattermap"
           }
          ],
          "scattermapbox": [
           {
            "marker": {
             "colorbar": {
              "outlinewidth": 0,
              "ticks": ""
             }
            },
            "type": "scattermapbox"
           }
          ],
          "scatterpolar": [
           {
            "marker": {
             "colorbar": {
              "outlinewidth": 0,
              "ticks": ""
             }
            },
            "type": "scatterpolar"
           }
          ],
          "scatterpolargl": [
           {
            "marker": {
             "colorbar": {
              "outlinewidth": 0,
              "ticks": ""
             }
            },
            "type": "scatterpolargl"
           }
          ],
          "scatterternary": [
           {
            "marker": {
             "colorbar": {
              "outlinewidth": 0,
              "ticks": ""
             }
            },
            "type": "scatterternary"
           }
          ],
          "surface": [
           {
            "colorbar": {
             "outlinewidth": 0,
             "ticks": ""
            },
            "colorscale": [
             [
              0,
              "#0d0887"
             ],
             [
              0.1111111111111111,
              "#46039f"
             ],
             [
              0.2222222222222222,
              "#7201a8"
             ],
             [
              0.3333333333333333,
              "#9c179e"
             ],
             [
              0.4444444444444444,
              "#bd3786"
             ],
             [
              0.5555555555555556,
              "#d8576b"
             ],
             [
              0.6666666666666666,
              "#ed7953"
             ],
             [
              0.7777777777777778,
              "#fb9f3a"
             ],
             [
              0.8888888888888888,
              "#fdca26"
             ],
             [
              1,
              "#f0f921"
             ]
            ],
            "type": "surface"
           }
          ],
          "table": [
           {
            "cells": {
             "fill": {
              "color": "#EBF0F8"
             },
             "line": {
              "color": "white"
             }
            },
            "header": {
             "fill": {
              "color": "#C8D4E3"
             },
             "line": {
              "color": "white"
             }
            },
            "type": "table"
           }
          ]
         },
         "layout": {
          "annotationdefaults": {
           "arrowcolor": "#2a3f5f",
           "arrowhead": 0,
           "arrowwidth": 1
          },
          "autotypenumbers": "strict",
          "coloraxis": {
           "colorbar": {
            "outlinewidth": 0,
            "ticks": ""
           }
          },
          "colorscale": {
           "diverging": [
            [
             0,
             "#8e0152"
            ],
            [
             0.1,
             "#c51b7d"
            ],
            [
             0.2,
             "#de77ae"
            ],
            [
             0.3,
             "#f1b6da"
            ],
            [
             0.4,
             "#fde0ef"
            ],
            [
             0.5,
             "#f7f7f7"
            ],
            [
             0.6,
             "#e6f5d0"
            ],
            [
             0.7,
             "#b8e186"
            ],
            [
             0.8,
             "#7fbc41"
            ],
            [
             0.9,
             "#4d9221"
            ],
            [
             1,
             "#276419"
            ]
           ],
           "sequential": [
            [
             0,
             "#0d0887"
            ],
            [
             0.1111111111111111,
             "#46039f"
            ],
            [
             0.2222222222222222,
             "#7201a8"
            ],
            [
             0.3333333333333333,
             "#9c179e"
            ],
            [
             0.4444444444444444,
             "#bd3786"
            ],
            [
             0.5555555555555556,
             "#d8576b"
            ],
            [
             0.6666666666666666,
             "#ed7953"
            ],
            [
             0.7777777777777778,
             "#fb9f3a"
            ],
            [
             0.8888888888888888,
             "#fdca26"
            ],
            [
             1,
             "#f0f921"
            ]
           ],
           "sequentialminus": [
            [
             0,
             "#0d0887"
            ],
            [
             0.1111111111111111,
             "#46039f"
            ],
            [
             0.2222222222222222,
             "#7201a8"
            ],
            [
             0.3333333333333333,
             "#9c179e"
            ],
            [
             0.4444444444444444,
             "#bd3786"
            ],
            [
             0.5555555555555556,
             "#d8576b"
            ],
            [
             0.6666666666666666,
             "#ed7953"
            ],
            [
             0.7777777777777778,
             "#fb9f3a"
            ],
            [
             0.8888888888888888,
             "#fdca26"
            ],
            [
             1,
             "#f0f921"
            ]
           ]
          },
          "colorway": [
           "#636efa",
           "#EF553B",
           "#00cc96",
           "#ab63fa",
           "#FFA15A",
           "#19d3f3",
           "#FF6692",
           "#B6E880",
           "#FF97FF",
           "#FECB52"
          ],
          "font": {
           "color": "#2a3f5f"
          },
          "geo": {
           "bgcolor": "white",
           "lakecolor": "white",
           "landcolor": "#E5ECF6",
           "showlakes": true,
           "showland": true,
           "subunitcolor": "white"
          },
          "hoverlabel": {
           "align": "left"
          },
          "hovermode": "closest",
          "mapbox": {
           "style": "light"
          },
          "paper_bgcolor": "white",
          "plot_bgcolor": "#E5ECF6",
          "polar": {
           "angularaxis": {
            "gridcolor": "white",
            "linecolor": "white",
            "ticks": ""
           },
           "bgcolor": "#E5ECF6",
           "radialaxis": {
            "gridcolor": "white",
            "linecolor": "white",
            "ticks": ""
           }
          },
          "scene": {
           "xaxis": {
            "backgroundcolor": "#E5ECF6",
            "gridcolor": "white",
            "gridwidth": 2,
            "linecolor": "white",
            "showbackground": true,
            "ticks": "",
            "zerolinecolor": "white"
           },
           "yaxis": {
            "backgroundcolor": "#E5ECF6",
            "gridcolor": "white",
            "gridwidth": 2,
            "linecolor": "white",
            "showbackground": true,
            "ticks": "",
            "zerolinecolor": "white"
           },
           "zaxis": {
            "backgroundcolor": "#E5ECF6",
            "gridcolor": "white",
            "gridwidth": 2,
            "linecolor": "white",
            "showbackground": true,
            "ticks": "",
            "zerolinecolor": "white"
           }
          },
          "shapedefaults": {
           "line": {
            "color": "#2a3f5f"
           }
          },
          "ternary": {
           "aaxis": {
            "gridcolor": "white",
            "linecolor": "white",
            "ticks": ""
           },
           "baxis": {
            "gridcolor": "white",
            "linecolor": "white",
            "ticks": ""
           },
           "bgcolor": "#E5ECF6",
           "caxis": {
            "gridcolor": "white",
            "linecolor": "white",
            "ticks": ""
           }
          },
          "title": {
           "x": 0.05
          },
          "xaxis": {
           "automargin": true,
           "gridcolor": "white",
           "linecolor": "white",
           "ticks": "",
           "title": {
            "standoff": 15
           },
           "zerolinecolor": "white",
           "zerolinewidth": 2
          },
          "yaxis": {
           "automargin": true,
           "gridcolor": "white",
           "linecolor": "white",
           "ticks": "",
           "title": {
            "standoff": 15
           },
           "zerolinecolor": "white",
           "zerolinewidth": 2
          }
         }
        },
        "title": {
         "font": {
          "color": "black",
          "family": "Times New Roman",
          "size": 30
         },
         "text": "All Subjects CAP-2",
         "x": 0.5
        },
        "width": 1200
       }
      }
     },
     "metadata": {},
     "output_type": "display_data"
    },
    {
     "data": {
      "application/vnd.plotly.v1+json": {
       "config": {
        "plotlyServerURL": "https://plot.ly"
       },
       "data": [
        {
         "connectgaps": true,
         "fill": "toself",
         "line": {
          "color": "rgba(255, 165, 0, 0.75)",
          "width": 2
         },
         "marker": {
          "color": "rgba(255, 165, 0, 0.75)",
          "size": 8
         },
         "mode": "markers+lines",
         "name": "High Amplitude",
         "opacity": 0.5,
         "r": [
          0.2894462210311714,
          0.22270801850673097,
          0.09656626321657194,
          0.08485099079836972,
          0.026061677801284173,
          0.07519454381365873,
          0.23071586556688314,
          0.367602808624439,
          0.41740629919144867
         ],
         "theta": [
          "Visual",
          "SMN",
          "DAN",
          "VAN",
          "Limbic",
          "Cont",
          "DMN",
          "Subcortical",
          "Cerebellar"
         ],
         "type": "scatterpolar"
        },
        {
         "connectgaps": true,
         "fill": "toself",
         "line": {
          "color": "black",
          "width": 2
         },
         "marker": {
          "color": "black",
          "size": 8
         },
         "mode": "markers+lines",
         "name": "Low Amplitude",
         "opacity": 0.5,
         "r": [
          0.138962879136792,
          0.15218078930056037,
          0.2526624253965139,
          0.17811220969609376,
          0.1702373260831437,
          0.2559675665582293,
          0.1821570673943986,
          0.25983148598746264,
          0.2635714679459033
         ],
         "theta": [
          "Visual",
          "SMN",
          "DAN",
          "VAN",
          "Limbic",
          "Cont",
          "DMN",
          "Subcortical",
          "Cerebellar"
         ],
         "type": "scatterpolar"
        }
       ],
       "layout": {
        "height": 800,
        "legend": {
         "font": {
          "color": "black",
          "size": 12
         },
         "title": {
          "font": {
           "family": "Times New Roman"
          },
          "text": "Cosine Similarity"
         },
         "x": 0.01,
         "xanchor": "left",
         "y": 0.99,
         "yanchor": "top"
        },
        "polar": {
         "angularaxis": {
          "gridcolor": "rgba(0, 0, 0, 0.25)",
          "linecolor": "rgba(0, 0, 0, 0.25)",
          "linewidth": 2,
          "showline": true,
          "tickfont": {
           "color": "black",
           "size": 16
          }
         },
         "bgcolor": "white",
         "radialaxis": {
          "gridcolor": "rgba(0, 0, 0, 0.25)",
          "linecolor": "rgba(0, 0, 0, 0.25)",
          "linewidth": 2,
          "range": [
           0,
           0.5
          ],
          "showline": true,
          "tickfont": {
           "color": "black",
           "size": 14
          },
          "ticks": "outside",
          "tickvals": [
           0.1,
           "",
           0.3,
           "",
           0.5
          ]
         }
        },
        "showlegend": true,
        "template": {
         "data": {
          "bar": [
           {
            "error_x": {
             "color": "#2a3f5f"
            },
            "error_y": {
             "color": "#2a3f5f"
            },
            "marker": {
             "line": {
              "color": "#E5ECF6",
              "width": 0.5
             },
             "pattern": {
              "fillmode": "overlay",
              "size": 10,
              "solidity": 0.2
             }
            },
            "type": "bar"
           }
          ],
          "barpolar": [
           {
            "marker": {
             "line": {
              "color": "#E5ECF6",
              "width": 0.5
             },
             "pattern": {
              "fillmode": "overlay",
              "size": 10,
              "solidity": 0.2
             }
            },
            "type": "barpolar"
           }
          ],
          "carpet": [
           {
            "aaxis": {
             "endlinecolor": "#2a3f5f",
             "gridcolor": "white",
             "linecolor": "white",
             "minorgridcolor": "white",
             "startlinecolor": "#2a3f5f"
            },
            "baxis": {
             "endlinecolor": "#2a3f5f",
             "gridcolor": "white",
             "linecolor": "white",
             "minorgridcolor": "white",
             "startlinecolor": "#2a3f5f"
            },
            "type": "carpet"
           }
          ],
          "choropleth": [
           {
            "colorbar": {
             "outlinewidth": 0,
             "ticks": ""
            },
            "type": "choropleth"
           }
          ],
          "contour": [
           {
            "colorbar": {
             "outlinewidth": 0,
             "ticks": ""
            },
            "colorscale": [
             [
              0,
              "#0d0887"
             ],
             [
              0.1111111111111111,
              "#46039f"
             ],
             [
              0.2222222222222222,
              "#7201a8"
             ],
             [
              0.3333333333333333,
              "#9c179e"
             ],
             [
              0.4444444444444444,
              "#bd3786"
             ],
             [
              0.5555555555555556,
              "#d8576b"
             ],
             [
              0.6666666666666666,
              "#ed7953"
             ],
             [
              0.7777777777777778,
              "#fb9f3a"
             ],
             [
              0.8888888888888888,
              "#fdca26"
             ],
             [
              1,
              "#f0f921"
             ]
            ],
            "type": "contour"
           }
          ],
          "contourcarpet": [
           {
            "colorbar": {
             "outlinewidth": 0,
             "ticks": ""
            },
            "type": "contourcarpet"
           }
          ],
          "heatmap": [
           {
            "colorbar": {
             "outlinewidth": 0,
             "ticks": ""
            },
            "colorscale": [
             [
              0,
              "#0d0887"
             ],
             [
              0.1111111111111111,
              "#46039f"
             ],
             [
              0.2222222222222222,
              "#7201a8"
             ],
             [
              0.3333333333333333,
              "#9c179e"
             ],
             [
              0.4444444444444444,
              "#bd3786"
             ],
             [
              0.5555555555555556,
              "#d8576b"
             ],
             [
              0.6666666666666666,
              "#ed7953"
             ],
             [
              0.7777777777777778,
              "#fb9f3a"
             ],
             [
              0.8888888888888888,
              "#fdca26"
             ],
             [
              1,
              "#f0f921"
             ]
            ],
            "type": "heatmap"
           }
          ],
          "histogram": [
           {
            "marker": {
             "pattern": {
              "fillmode": "overlay",
              "size": 10,
              "solidity": 0.2
             }
            },
            "type": "histogram"
           }
          ],
          "histogram2d": [
           {
            "colorbar": {
             "outlinewidth": 0,
             "ticks": ""
            },
            "colorscale": [
             [
              0,
              "#0d0887"
             ],
             [
              0.1111111111111111,
              "#46039f"
             ],
             [
              0.2222222222222222,
              "#7201a8"
             ],
             [
              0.3333333333333333,
              "#9c179e"
             ],
             [
              0.4444444444444444,
              "#bd3786"
             ],
             [
              0.5555555555555556,
              "#d8576b"
             ],
             [
              0.6666666666666666,
              "#ed7953"
             ],
             [
              0.7777777777777778,
              "#fb9f3a"
             ],
             [
              0.8888888888888888,
              "#fdca26"
             ],
             [
              1,
              "#f0f921"
             ]
            ],
            "type": "histogram2d"
           }
          ],
          "histogram2dcontour": [
           {
            "colorbar": {
             "outlinewidth": 0,
             "ticks": ""
            },
            "colorscale": [
             [
              0,
              "#0d0887"
             ],
             [
              0.1111111111111111,
              "#46039f"
             ],
             [
              0.2222222222222222,
              "#7201a8"
             ],
             [
              0.3333333333333333,
              "#9c179e"
             ],
             [
              0.4444444444444444,
              "#bd3786"
             ],
             [
              0.5555555555555556,
              "#d8576b"
             ],
             [
              0.6666666666666666,
              "#ed7953"
             ],
             [
              0.7777777777777778,
              "#fb9f3a"
             ],
             [
              0.8888888888888888,
              "#fdca26"
             ],
             [
              1,
              "#f0f921"
             ]
            ],
            "type": "histogram2dcontour"
           }
          ],
          "mesh3d": [
           {
            "colorbar": {
             "outlinewidth": 0,
             "ticks": ""
            },
            "type": "mesh3d"
           }
          ],
          "parcoords": [
           {
            "line": {
             "colorbar": {
              "outlinewidth": 0,
              "ticks": ""
             }
            },
            "type": "parcoords"
           }
          ],
          "pie": [
           {
            "automargin": true,
            "type": "pie"
           }
          ],
          "scatter": [
           {
            "fillpattern": {
             "fillmode": "overlay",
             "size": 10,
             "solidity": 0.2
            },
            "type": "scatter"
           }
          ],
          "scatter3d": [
           {
            "line": {
             "colorbar": {
              "outlinewidth": 0,
              "ticks": ""
             }
            },
            "marker": {
             "colorbar": {
              "outlinewidth": 0,
              "ticks": ""
             }
            },
            "type": "scatter3d"
           }
          ],
          "scattercarpet": [
           {
            "marker": {
             "colorbar": {
              "outlinewidth": 0,
              "ticks": ""
             }
            },
            "type": "scattercarpet"
           }
          ],
          "scattergeo": [
           {
            "marker": {
             "colorbar": {
              "outlinewidth": 0,
              "ticks": ""
             }
            },
            "type": "scattergeo"
           }
          ],
          "scattergl": [
           {
            "marker": {
             "colorbar": {
              "outlinewidth": 0,
              "ticks": ""
             }
            },
            "type": "scattergl"
           }
          ],
          "scattermap": [
           {
            "marker": {
             "colorbar": {
              "outlinewidth": 0,
              "ticks": ""
             }
            },
            "type": "scattermap"
           }
          ],
          "scattermapbox": [
           {
            "marker": {
             "colorbar": {
              "outlinewidth": 0,
              "ticks": ""
             }
            },
            "type": "scattermapbox"
           }
          ],
          "scatterpolar": [
           {
            "marker": {
             "colorbar": {
              "outlinewidth": 0,
              "ticks": ""
             }
            },
            "type": "scatterpolar"
           }
          ],
          "scatterpolargl": [
           {
            "marker": {
             "colorbar": {
              "outlinewidth": 0,
              "ticks": ""
             }
            },
            "type": "scatterpolargl"
           }
          ],
          "scatterternary": [
           {
            "marker": {
             "colorbar": {
              "outlinewidth": 0,
              "ticks": ""
             }
            },
            "type": "scatterternary"
           }
          ],
          "surface": [
           {
            "colorbar": {
             "outlinewidth": 0,
             "ticks": ""
            },
            "colorscale": [
             [
              0,
              "#0d0887"
             ],
             [
              0.1111111111111111,
              "#46039f"
             ],
             [
              0.2222222222222222,
              "#7201a8"
             ],
             [
              0.3333333333333333,
              "#9c179e"
             ],
             [
              0.4444444444444444,
              "#bd3786"
             ],
             [
              0.5555555555555556,
              "#d8576b"
             ],
             [
              0.6666666666666666,
              "#ed7953"
             ],
             [
              0.7777777777777778,
              "#fb9f3a"
             ],
             [
              0.8888888888888888,
              "#fdca26"
             ],
             [
              1,
              "#f0f921"
             ]
            ],
            "type": "surface"
           }
          ],
          "table": [
           {
            "cells": {
             "fill": {
              "color": "#EBF0F8"
             },
             "line": {
              "color": "white"
             }
            },
            "header": {
             "fill": {
              "color": "#C8D4E3"
             },
             "line": {
              "color": "white"
             }
            },
            "type": "table"
           }
          ]
         },
         "layout": {
          "annotationdefaults": {
           "arrowcolor": "#2a3f5f",
           "arrowhead": 0,
           "arrowwidth": 1
          },
          "autotypenumbers": "strict",
          "coloraxis": {
           "colorbar": {
            "outlinewidth": 0,
            "ticks": ""
           }
          },
          "colorscale": {
           "diverging": [
            [
             0,
             "#8e0152"
            ],
            [
             0.1,
             "#c51b7d"
            ],
            [
             0.2,
             "#de77ae"
            ],
            [
             0.3,
             "#f1b6da"
            ],
            [
             0.4,
             "#fde0ef"
            ],
            [
             0.5,
             "#f7f7f7"
            ],
            [
             0.6,
             "#e6f5d0"
            ],
            [
             0.7,
             "#b8e186"
            ],
            [
             0.8,
             "#7fbc41"
            ],
            [
             0.9,
             "#4d9221"
            ],
            [
             1,
             "#276419"
            ]
           ],
           "sequential": [
            [
             0,
             "#0d0887"
            ],
            [
             0.1111111111111111,
             "#46039f"
            ],
            [
             0.2222222222222222,
             "#7201a8"
            ],
            [
             0.3333333333333333,
             "#9c179e"
            ],
            [
             0.4444444444444444,
             "#bd3786"
            ],
            [
             0.5555555555555556,
             "#d8576b"
            ],
            [
             0.6666666666666666,
             "#ed7953"
            ],
            [
             0.7777777777777778,
             "#fb9f3a"
            ],
            [
             0.8888888888888888,
             "#fdca26"
            ],
            [
             1,
             "#f0f921"
            ]
           ],
           "sequentialminus": [
            [
             0,
             "#0d0887"
            ],
            [
             0.1111111111111111,
             "#46039f"
            ],
            [
             0.2222222222222222,
             "#7201a8"
            ],
            [
             0.3333333333333333,
             "#9c179e"
            ],
            [
             0.4444444444444444,
             "#bd3786"
            ],
            [
             0.5555555555555556,
             "#d8576b"
            ],
            [
             0.6666666666666666,
             "#ed7953"
            ],
            [
             0.7777777777777778,
             "#fb9f3a"
            ],
            [
             0.8888888888888888,
             "#fdca26"
            ],
            [
             1,
             "#f0f921"
            ]
           ]
          },
          "colorway": [
           "#636efa",
           "#EF553B",
           "#00cc96",
           "#ab63fa",
           "#FFA15A",
           "#19d3f3",
           "#FF6692",
           "#B6E880",
           "#FF97FF",
           "#FECB52"
          ],
          "font": {
           "color": "#2a3f5f"
          },
          "geo": {
           "bgcolor": "white",
           "lakecolor": "white",
           "landcolor": "#E5ECF6",
           "showlakes": true,
           "showland": true,
           "subunitcolor": "white"
          },
          "hoverlabel": {
           "align": "left"
          },
          "hovermode": "closest",
          "mapbox": {
           "style": "light"
          },
          "paper_bgcolor": "white",
          "plot_bgcolor": "#E5ECF6",
          "polar": {
           "angularaxis": {
            "gridcolor": "white",
            "linecolor": "white",
            "ticks": ""
           },
           "bgcolor": "#E5ECF6",
           "radialaxis": {
            "gridcolor": "white",
            "linecolor": "white",
            "ticks": ""
           }
          },
          "scene": {
           "xaxis": {
            "backgroundcolor": "#E5ECF6",
            "gridcolor": "white",
            "gridwidth": 2,
            "linecolor": "white",
            "showbackground": true,
            "ticks": "",
            "zerolinecolor": "white"
           },
           "yaxis": {
            "backgroundcolor": "#E5ECF6",
            "gridcolor": "white",
            "gridwidth": 2,
            "linecolor": "white",
            "showbackground": true,
            "ticks": "",
            "zerolinecolor": "white"
           },
           "zaxis": {
            "backgroundcolor": "#E5ECF6",
            "gridcolor": "white",
            "gridwidth": 2,
            "linecolor": "white",
            "showbackground": true,
            "ticks": "",
            "zerolinecolor": "white"
           }
          },
          "shapedefaults": {
           "line": {
            "color": "#2a3f5f"
           }
          },
          "ternary": {
           "aaxis": {
            "gridcolor": "white",
            "linecolor": "white",
            "ticks": ""
           },
           "baxis": {
            "gridcolor": "white",
            "linecolor": "white",
            "ticks": ""
           },
           "bgcolor": "#E5ECF6",
           "caxis": {
            "gridcolor": "white",
            "linecolor": "white",
            "ticks": ""
           }
          },
          "title": {
           "x": 0.05
          },
          "xaxis": {
           "automargin": true,
           "gridcolor": "white",
           "linecolor": "white",
           "ticks": "",
           "title": {
            "standoff": 15
           },
           "zerolinecolor": "white",
           "zerolinewidth": 2
          },
          "yaxis": {
           "automargin": true,
           "gridcolor": "white",
           "linecolor": "white",
           "ticks": "",
           "title": {
            "standoff": 15
           },
           "zerolinecolor": "white",
           "zerolinewidth": 2
          }
         }
        },
        "title": {
         "font": {
          "color": "black",
          "family": "Times New Roman",
          "size": 30
         },
         "text": "All Subjects CAP-3",
         "x": 0.5
        },
        "width": 1200
       }
      }
     },
     "metadata": {},
     "output_type": "display_data"
    },
    {
     "data": {
      "text/plain": [
       "<neurocaps.analysis.cap.CAP at 0x1e0bf6b9f10>"
      ]
     },
     "execution_count": 7,
     "metadata": {},
     "output_type": "execute_result"
    }
   ],
   "source": [
    "radialaxis = {\n",
    "    \"showline\": True,\n",
    "    \"linewidth\": 2,\n",
    "    \"linecolor\": \"rgba(0, 0, 0, 0.25)\",\n",
    "    \"gridcolor\": \"rgba(0, 0, 0, 0.25)\",\n",
    "    \"ticks\": \"outside\",\n",
    "    \"tickfont\": {\"size\": 14, \"color\": \"black\"},\n",
    "    \"range\": [0, 0.5],\n",
    "    \"tickvals\": [0.1, \"\", 0.3, \"\", 0.5],\n",
    "}\n",
    "\n",
    "color_discrete_map = {\n",
    "    \"High Amplitude\": \"rgba(255, 165, 0, 0.75)\",\n",
    "    \"Low Amplitude\": \"black\",\n",
    "}\n",
    "\n",
    "cap_analysis.caps2radar(\n",
    "    radialaxis=radialaxis,\n",
    "    fill=\"toself\",\n",
    "    color_discrete_map=color_discrete_map,\n",
    "    use_scatterpolar=True,\n",
    "    output_dir=\"neurocaps_demo\",\n",
    ")"
   ]
  }
 ],
 "metadata": {
  "kernelspec": {
   "display_name": "Python 3",
   "language": "python",
   "name": "python3"
  },
  "language_info": {
   "codemirror_mode": {
    "name": "ipython",
    "version": 3
   },
   "file_extension": ".py",
   "mimetype": "text/x-python",
   "name": "python",
   "nbconvert_exporter": "python",
   "pygments_lexer": "ipython3",
   "version": "3.11.0"
  }
 },
 "nbformat": 4,
 "nbformat_minor": 2
}
