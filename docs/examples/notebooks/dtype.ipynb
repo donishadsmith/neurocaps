{
 "cells": [
  {
   "cell_type": "markdown",
   "metadata": {},
   "source": [
    "# Tutorial 5: Changing Dtype With ``change_dtype``\n",
    "\n",
    "The dtype of the all participant's NumPy arrays can be changed to assist with memory usage."
   ]
  },
  {
   "cell_type": "code",
   "execution_count": null,
   "metadata": {},
   "outputs": [],
   "source": [
    "# Download packages\n",
    "!pip install neurocaps[windows,demo]"
   ]
  },
  {
   "cell_type": "code",
   "execution_count": null,
   "metadata": {},
   "outputs": [],
   "source": [
    "import numpy as np\n",
    "from neurocaps.analysis import change_dtype\n",
    "\n",
    "subject_timeseries = {str(x): {f\"run-{y}\": np.random.rand(50, 100) for y in range(1, 3)} for x in range(1, 3)}\n",
    "converted_subject_timeseries = change_dtype(subject_timeseries_list=[subject_timeseries], dtype=np.float32)\n",
    "for subj_id in subject_timeseries:\n",
    "    for run in subject_timeseries[subj_id]:\n",
    "        print(\n",
    "            f\"\"\"\n",
    "                subj-{subj_id}; {run}:\n",
    "                dtype before conversion {subject_timeseries[subj_id][run].dtype}\n",
    "                dtype after conversion: {converted_subject_timeseries[\"dict_0\"][subj_id][run].dtype}\n",
    "                \"\"\"\n",
    "        )\n"
   ]
  }
 ],
 "metadata": {
  "language_info": {
   "name": "python"
  }
 },
 "nbformat": 4,
 "nbformat_minor": 2
}
